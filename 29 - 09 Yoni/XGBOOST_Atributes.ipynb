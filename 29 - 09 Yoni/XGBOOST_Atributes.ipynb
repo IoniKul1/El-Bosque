{
 "cells": [
  {
   "cell_type": "code",
   "execution_count": 15,
   "metadata": {},
   "outputs": [],
   "source": [
    "import pandas as pd\n",
    "import time\n",
    "import gc\n",
    "import sklearn\n",
    "from sklearn.impute import SimpleImputer\n",
    "from xgboost import XGBClassifier\n",
    "from sklearn.pipeline import make_pipeline\n",
    "from sklearn.model_selection import cross_val_score\n",
    "import matplotlib.pyplot as plt\n",
    "import seaborn as sns\n",
    "from sklearn.model_selection import train_test_split\n",
    "from sklearn.preprocessing import OneHotEncoder\n",
    "from sklearn.metrics import roc_auc_score\n",
    "from sklearn.compose import ColumnTransformer\n",
    "from sklearn.preprocessing import StandardScaler\n",
    "from sklearn.model_selection import StratifiedKFold\n",
    "from sklearn.pipeline import Pipeline\n",
    "from sklearn.feature_selection import mutual_info_classif\n",
    "from sklearn.preprocessing import LabelEncoder\n",
    "from sklearn.preprocessing import MinMaxScaler\n",
    "import numpy as np\n",
    "from scipy.sparse import hstack\n",
    "from scipy.sparse import coo_matrix\n",
    "import xgboost as xgb\n",
    "from scipy.stats import uniform\n",
    "from sklearn.model_selection import ParameterSampler\n",
    "from sklearn.metrics import balanced_accuracy_score, roc_auc_score, make_scorer\n",
    "from sklearn.metrics import confusion_matrix\n",
    "from sklearn.tree import DecisionTreeClassifier\n",
    "from sklearn.metrics import roc_auc_score\n",
    "from sklearn.preprocessing import LabelEncoder\n",
    "from scipy.stats import uniform\n",
    "import ast\n",
    "from sklearn.metrics import accuracy_score\n",
    "import matplotlib.pyplot as plt\n",
    "from sklearn.metrics import roc_curve, auc\n",
    "from xgboost.callback import EarlyStopping\n",
    "import matplotlib.pyplot as plt\n",
    "from sklearn.metrics import roc_curve, auc\n",
    "\n",
    "random_state = 42\n",
    "np.random.seed(random_state)"
   ]
  },
  {
   "cell_type": "code",
   "execution_count": 3,
   "metadata": {},
   "outputs": [
    {
     "name": "stdout",
     "output_type": "stream",
     "text": [
      "Tamaño del conjunto  (4439125, 52)\n",
      "Tamaño del conjunto  (1139639, 52)\n"
     ]
    }
   ],
   "source": [
    "ctr_15 = pd.read_csv('/Users/ionikullock/Desktop/UTDT-Tecnología Digital/TD VI/Trabajo práctico 2/Datos/ctr_15.csv')\n",
    "ctr_16 = pd.read_csv('/Users/ionikullock/Desktop/UTDT-Tecnología Digital/TD VI/Trabajo práctico 2/Datos/ctr_16.csv')\n",
    "ctr_17 = pd.read_csv('/Users/ionikullock/Desktop/UTDT-Tecnología Digital/TD VI/Trabajo práctico 2/Datos/ctr_17.csv') \n",
    "ctr_18 = pd.read_csv('/Users/ionikullock/Desktop/UTDT-Tecnología Digital/TD VI/Trabajo práctico 2/Datos/ctr_18.csv')  \n",
    "data = pd.concat(([ctr_15,ctr_16,ctr_17,ctr_18]))\n",
    "print(\"Tamaño del conjunto \", data.shape)\n",
    "ctr_test = pd.read_csv('/Users/ionikullock/Desktop/UTDT-Tecnología Digital/TD VI/Trabajo práctico 2/Datos/ctr_test.csv')\n",
    "print(\"Tamaño del conjunto \", ctr_test.shape)"
   ]
  },
  {
   "cell_type": "code",
   "execution_count": 4,
   "metadata": {},
   "outputs": [
    {
     "name": "stdout",
     "output_type": "stream",
     "text": [
      "Columnas eliminadas: ['device_id', 'action_list_1', 'action_list_2', 'action_categorical_0', 'auction_list_0', 'action_categorical_2', 'action_categorical_4', 'auction_categorical_0', 'auction_categorical_11', 'auction_categorical_3', 'creative_categorical_0', 'auction_categorical_7', 'Auction_time', 'auction_categorical_10', 'action_categorical_7', 'action_categorical_6', 'auction_boolean_1', 'auction_boolean_2', 'creative_categorical_10', 'auction_categorical_4', 'gender', 'creative_categorical_1', 'auction_categorical_6', 'auction_boolean_0', 'creative_categorical_3', 'auction_categorical_2', 'action_categorical_5', 'action_list_0', 'auction_categorical_1', 'auction_categorical_5', 'device_id_type', 'auction_categorical_8', 'action_categorical_0', 'auction_categorical_0', 'creative_categorical_9', 'creative_categorical_11', 'creative_categorical_5', 'creative_categorical_7', 'creative_categorical_12', 'creative_categorical_8', 'creative_categorical_4', 'creative_categorical_6', 'action_categorical_1', 'creative_categorical_2', 'action_categorical_3', 'action_categorical_2', 'auction_categorical_11', 'action_categorical_4', 'creative_categorical_0', 'device_id']\n",
      "Tamaño del data después de la eliminación: (4439125, 10)\n",
      "Tamaño del test después de la eliminación: (1139639, 9)\n"
     ]
    }
   ],
   "source": [
    "# Lista de columnas a eliminar\n",
    "columns_to_remove = [\n",
    "    'device_id', 'action_list_1', 'action_list_2', 'action_categorical_0', \n",
    "    'auction_list_0', 'action_categorical_2', 'action_categorical_4', \n",
    "    'auction_categorical_0', 'auction_categorical_11', 'auction_categorical_3', \n",
    "    'creative_categorical_0', 'auction_categorical_7', 'Auction_time', 'auction_categorical_10', 'action_categorical_7', 'action_categorical_6',\n",
    "    'auction_boolean_1', 'auction_boolean_2', 'creative_categorical_10',\n",
    "    'auction_categorical_4', 'gender', 'creative_categorical_1', \n",
    "    'auction_categorical_6', 'auction_boolean_0', 'creative_categorical_3',\n",
    "    'auction_categorical_2', 'action_categorical_5', 'action_list_0',\n",
    "    'auction_categorical_1', 'auction_categorical_5', 'device_id_type',\n",
    "    'auction_categorical_8', 'action_categorical_0', 'auction_categorical_0',\n",
    "    'creative_categorical_9', 'creative_categorical_11', 'creative_categorical_5',\n",
    "    'creative_categorical_7', 'creative_categorical_12', 'creative_categorical_8',\n",
    "    'creative_categorical_4', 'creative_categorical_6', 'action_categorical_1',\n",
    "    'creative_categorical_2', 'action_categorical_3', 'action_categorical_2',\n",
    "    'auction_categorical_11', 'action_categorical_4',\n",
    "    'creative_categorical_0', 'device_id'\n",
    "]\n",
    "\n",
    "data = data.drop(columns=columns_to_remove, errors='ignore')\n",
    "ctr_test = ctr_test.drop(columns=columns_to_remove, errors='ignore')\n",
    "\n",
    "id_col_test = ctr_test[\"id\"]\n",
    "ctr_test = ctr_test.drop(columns=\"id\", errors='ignore')\n",
    "\n",
    "print(f\"Columnas eliminadas: {columns_to_remove}\")\n",
    "print(f\"Tamaño del data después de la eliminación: {data.shape}\")\n",
    "print(f\"Tamaño del test después de la eliminación: {ctr_test.shape}\")\n"
   ]
  },
  {
   "cell_type": "code",
   "execution_count": 5,
   "metadata": {},
   "outputs": [
    {
     "name": "stdout",
     "output_type": "stream",
     "text": [
      "Shape de data_drop después de OneHotEncoding: (4439125, 16)\n",
      "Shape de eval_data_drop después de OneHotEncoding: (1139639, 17)\n",
      "<class 'pandas.core.frame.DataFrame'>\n",
      "Index: 4439125 entries, 0 to 1013580\n",
      "Data columns (total 16 columns):\n",
      " #   Column                           Dtype  \n",
      "---  ------                           -----  \n",
      " 0   Label                            int64  \n",
      " 1   auction_age                      float64\n",
      " 2   auction_bidfloor                 float64\n",
      " 3   auction_time                     float64\n",
      " 4   creative_height                  float64\n",
      " 5   creative_width                   float64\n",
      " 6   timezone_offset                  float64\n",
      " 7   auction_categorical_12_9c3324c7  int64  \n",
      " 8   auction_categorical_12_Other     int64  \n",
      " 9   auction_categorical_12_b4e520dd  int64  \n",
      " 10  auction_categorical_12_e9e0850e  int64  \n",
      " 11  auction_categorical_9_11105871   int64  \n",
      " 12  auction_categorical_9_Other      int64  \n",
      " 13  auction_categorical_9_d4eea9a2   int64  \n",
      " 14  has_video_False                  int64  \n",
      " 15  has_video_True                   int64  \n",
      "dtypes: float64(6), int64(10)\n",
      "memory usage: 575.8 MB\n",
      "<class 'pandas.core.frame.DataFrame'>\n",
      "RangeIndex: 1139639 entries, 0 to 1139638\n",
      "Data columns (total 17 columns):\n",
      " #   Column                           Non-Null Count    Dtype  \n",
      "---  ------                           --------------    -----  \n",
      " 0   Label                            1139639 non-null  int64  \n",
      " 1   auction_age                      162631 non-null   float64\n",
      " 2   auction_bidfloor                 1139639 non-null  float64\n",
      " 3   auction_time                     1139639 non-null  float64\n",
      " 4   creative_height                  938958 non-null   float64\n",
      " 5   creative_width                   938958 non-null   float64\n",
      " 6   timezone_offset                  1131665 non-null  float64\n",
      " 7   auction_categorical_12_9c3324c7  1139639 non-null  int64  \n",
      " 8   auction_categorical_12_Other     1139639 non-null  int64  \n",
      " 9   auction_categorical_12_b4e520dd  1139639 non-null  int64  \n",
      " 10  auction_categorical_12_e9e0850e  1139639 non-null  int64  \n",
      " 11  auction_categorical_9_11105871   1139639 non-null  int64  \n",
      " 12  auction_categorical_9_Other      1139639 non-null  int64  \n",
      " 13  auction_categorical_9_d4eea9a2   1139639 non-null  int64  \n",
      " 14  has_video_False                  1139639 non-null  int64  \n",
      " 15  has_video_True                   1139639 non-null  int64  \n",
      " 16  id                               1139639 non-null  int64  \n",
      "dtypes: float64(6), int64(11)\n",
      "memory usage: 147.8 MB\n"
     ]
    }
   ],
   "source": [
    "def group_rare_categories(column, threshold):\n",
    "    freq = column.value_counts(normalize=True)\n",
    "    rare_categories = freq[freq < threshold].index\n",
    "    return column.apply(lambda x: 'Other' if x in rare_categories else x)\n",
    "\n",
    "threshold = 0.05\n",
    "\n",
    "categorical_columns = data.select_dtypes(include=['object']).columns.tolist()\n",
    "categorical_columns_eval = ctr_test.select_dtypes(include=['object']).columns.tolist()\n",
    "\n",
    "#categorical_columns = ['auction_categorical_12', 'auction_categorical_3', 'auction_categorical_7', 'auction_categorical_9']\n",
    "#list_columns = ['action_list_2', 'action_list_1', 'auction_list_0']\n",
    "\n",
    "for col in categorical_columns:\n",
    "    data[col] = group_rare_categories(data[col], threshold)\n",
    "\n",
    "for col in categorical_columns_eval:\n",
    "    ctr_test[col] = group_rare_categories(ctr_test[col], threshold)\n",
    "pd_ohe = pd.get_dummies(data,\n",
    "                        columns=categorical_columns + ['has_video'],  # Incluye has_video también\n",
    "                        sparse=False,    # Devolver una matriz no rala para facilitar la alineación\n",
    "                        dummy_na=False,  # No agregar columna para NaNs.\n",
    "                        dtype=int        # XGBoost no trabaja con 'object'; necesitamos que sean numéricos.\n",
    "                       )\n",
    "\n",
    "pd_ohe_eval = pd.get_dummies(ctr_test,\n",
    "                             columns=categorical_columns_eval + ['has_video'],  # Incluye has_video también\n",
    "                             sparse=False,    # Devolver una matriz no rala\n",
    "                             dummy_na=False,  # No agregar columna para NaNs.\n",
    "                             dtype=int        # XGBoost no trabaja con 'object'; necesitamos que sean numéricos.\n",
    "                            )\n",
    "\n",
    "pd_ohe_eval = pd_ohe_eval.reindex(columns=pd_ohe.columns, fill_value=0)\n",
    "\n",
    "pd_ohe_eval['id'] = id_col_test.values\n",
    "\n",
    "print(\"Shape de data_drop después de OneHotEncoding:\", pd_ohe.shape)\n",
    "print(\"Shape de eval_data_drop después de OneHotEncoding:\", pd_ohe_eval.shape)\n",
    "\n",
    "pd_ohe.info()\n",
    "pd_ohe_eval.info()"
   ]
  },
  {
   "cell_type": "code",
   "execution_count": 6,
   "metadata": {},
   "outputs": [
    {
     "name": "stdout",
     "output_type": "stream",
     "text": [
      "(1139639, 16)\n",
      "Cantidad de datos de train: 3551300\n",
      "Cantidad de datos de validación: 887825\n"
     ]
    }
   ],
   "source": [
    "y = pd_ohe[['Label']].copy() # Usamos copy para no modificar un view abajo, ya que genera un warning.\n",
    "X = pd_ohe.drop('Label', axis = 1)\n",
    "\n",
    "X_train, X_val, Y_train, Y_val = train_test_split(X, y,\n",
    "                                                  train_size = 0.8,\n",
    "                                                  random_state = 32,\n",
    "                                                  stratify = y)\n",
    "\n",
    "X_test = pd_ohe_eval.drop('Label', axis = 1)\n",
    "\n",
    "print(X_test.shape)\n",
    "print(f'Cantidad de datos de train: {len(X_train)}')\n",
    "print(f'Cantidad de datos de validación: {len(X_val)}')\n"
   ]
  },
  {
   "cell_type": "code",
   "execution_count": 17,
   "metadata": {},
   "outputs": [
    {
     "ename": "TypeError",
     "evalue": "XGBClassifier.fit() got an unexpected keyword argument 'callbacks'",
     "output_type": "error",
     "traceback": [
      "\u001b[0;31m---------------------------------------------------------------------------\u001b[0m",
      "\u001b[0;31mTypeError\u001b[0m                                 Traceback (most recent call last)",
      "Cell \u001b[0;32mIn[17], line 9\u001b[0m\n\u001b[1;32m      2\u001b[0m clf_xgb \u001b[38;5;241m=\u001b[39m xgb\u001b[38;5;241m.\u001b[39mXGBClassifier(objective\u001b[38;5;241m=\u001b[39m\u001b[38;5;124m'\u001b[39m\u001b[38;5;124mbinary:logistic\u001b[39m\u001b[38;5;124m'\u001b[39m,\n\u001b[1;32m      3\u001b[0m                             seed\u001b[38;5;241m=\u001b[39m\u001b[38;5;241m42\u001b[39m,\n\u001b[1;32m      4\u001b[0m                             eval_metric\u001b[38;5;241m=\u001b[39m\u001b[38;5;124m'\u001b[39m\u001b[38;5;124mauc\u001b[39m\u001b[38;5;124m'\u001b[39m,\n\u001b[1;32m      5\u001b[0m                             use_label_encoder\u001b[38;5;241m=\u001b[39m\u001b[38;5;28;01mFalse\u001b[39;00m,\n\u001b[1;32m      6\u001b[0m                             n_estimators\u001b[38;5;241m=\u001b[39m\u001b[38;5;241m200\u001b[39m)\n\u001b[1;32m      8\u001b[0m \u001b[38;5;66;03m# Usar el callback EarlyStopping para la parada temprana\u001b[39;00m\n\u001b[0;32m----> 9\u001b[0m \u001b[43mclf_xgb\u001b[49m\u001b[38;5;241;43m.\u001b[39;49m\u001b[43mfit\u001b[49m\u001b[43m(\u001b[49m\u001b[43mX_train\u001b[49m\u001b[43m,\u001b[49m\u001b[43m \u001b[49m\u001b[43mY_train\u001b[49m\u001b[43m,\u001b[49m\u001b[43m \u001b[49m\n\u001b[1;32m     10\u001b[0m \u001b[43m            \u001b[49m\u001b[43mverbose\u001b[49m\u001b[38;5;241;43m=\u001b[39;49m\u001b[38;5;28;43;01mTrue\u001b[39;49;00m\u001b[43m,\u001b[49m\u001b[43m \u001b[49m\n\u001b[1;32m     11\u001b[0m \u001b[43m            \u001b[49m\u001b[43meval_set\u001b[49m\u001b[38;5;241;43m=\u001b[39;49m\u001b[43m[\u001b[49m\u001b[43m(\u001b[49m\u001b[43mX_val\u001b[49m\u001b[43m,\u001b[49m\u001b[43m \u001b[49m\u001b[43mY_val\u001b[49m\u001b[43m)\u001b[49m\u001b[43m]\u001b[49m\u001b[43m,\u001b[49m\u001b[43m \u001b[49m\n\u001b[1;32m     12\u001b[0m \u001b[43m            \u001b[49m\u001b[43mcallbacks\u001b[49m\u001b[38;5;241;43m=\u001b[39;49m\u001b[43m[\u001b[49m\u001b[43mEarlyStopping\u001b[49m\u001b[43m(\u001b[49m\u001b[43mrounds\u001b[49m\u001b[38;5;241;43m=\u001b[39;49m\u001b[38;5;241;43m10\u001b[39;49m\u001b[43m,\u001b[49m\u001b[43m \u001b[49m\u001b[43msave_best\u001b[49m\u001b[38;5;241;43m=\u001b[39;49m\u001b[38;5;28;43;01mTrue\u001b[39;49;00m\u001b[43m)\u001b[49m\u001b[43m]\u001b[49m\u001b[43m)\u001b[49m  \u001b[38;5;66;03m# Usar EarlyStopping callback\u001b[39;00m\n\u001b[1;32m     14\u001b[0m \u001b[38;5;66;03m# Obtener la mejor iteración\u001b[39;00m\n\u001b[1;32m     15\u001b[0m best_iteration \u001b[38;5;241m=\u001b[39m clf_xgb\u001b[38;5;241m.\u001b[39mbest_iteration\n",
      "File \u001b[0;32m/opt/anaconda3/envs/TD6/lib/python3.12/site-packages/xgboost/core.py:726\u001b[0m, in \u001b[0;36mrequire_keyword_args.<locals>.throw_if.<locals>.inner_f\u001b[0;34m(*args, **kwargs)\u001b[0m\n\u001b[1;32m    724\u001b[0m \u001b[38;5;28;01mfor\u001b[39;00m k, arg \u001b[38;5;129;01min\u001b[39;00m \u001b[38;5;28mzip\u001b[39m(sig\u001b[38;5;241m.\u001b[39mparameters, args):\n\u001b[1;32m    725\u001b[0m     kwargs[k] \u001b[38;5;241m=\u001b[39m arg\n\u001b[0;32m--> 726\u001b[0m \u001b[38;5;28;01mreturn\u001b[39;00m \u001b[43mfunc\u001b[49m\u001b[43m(\u001b[49m\u001b[38;5;241;43m*\u001b[39;49m\u001b[38;5;241;43m*\u001b[39;49m\u001b[43mkwargs\u001b[49m\u001b[43m)\u001b[49m\n",
      "\u001b[0;31mTypeError\u001b[0m: XGBClassifier.fit() got an unexpected keyword argument 'callbacks'"
     ]
    }
   ],
   "source": [
    "\n",
    "# Define el modelo\n",
    "clf_xgb = xgb.XGBClassifier(objective='binary:logistic',\n",
    "                            seed=42,\n",
    "                            eval_metric='auc',\n",
    "                            use_label_encoder=False,\n",
    "                            n_estimators=200)\n",
    "\n",
    "# Usar el callback EarlyStopping para la parada temprana\n",
    "clf_xgb.fit(X_train, Y_train, \n",
    "            verbose=True, \n",
    "            eval_set=[(X_val, Y_val)], \n",
    "            callbacks=[EarlyStopping(rounds=10, save_best=True)])  # Usar EarlyStopping callback\n",
    "\n",
    "# Obtener la mejor iteración\n",
    "best_iteration = clf_xgb.best_iteration\n",
    "\n",
    "# Predecir probabilidades en el conjunto de validación con el mejor modelo\n",
    "y_pred_proba = clf_xgb.predict_proba(X_val, ntree_limit=best_iteration)[:, 1]\n",
    "\n",
    "# Calcular la curva ROC\n",
    "fpr, tpr, thresholds = roc_curve(Y_val, y_pred_proba)\n",
    "roc_auc = auc(fpr, tpr)\n",
    "\n",
    "# Graficar la curva ROC\n",
    "plt.figure()\n",
    "plt.plot(fpr, tpr, color='darkorange', lw=2, label=f'AUC ROC (area = {roc_auc:.4f})')\n",
    "plt.plot([0, 1], [0, 1], color='navy', lw=2, linestyle='--')\n",
    "plt.xlim([0.0, 1.0])\n",
    "plt.ylim([0.0, 1.05])\n",
    "plt.xlabel('False Positive Rate')\n",
    "plt.ylabel('True Positive Rate')\n",
    "plt.title('ROC Curve')\n",
    "plt.legend(loc=\"lower right\")\n",
    "plt.show()"
   ]
  },
  {
   "cell_type": "code",
   "execution_count": 57,
   "metadata": {},
   "outputs": [],
   "source": [
    "X_test['id'] = range(1, len(X_test) + 1)\n",
    "y_pred_test = clf_xgb.predict_proba(X_test.drop(columns=[\"id\"]))[:, clf_xgb.classes_ == 1].squeeze()\n",
    "submission_df = pd.DataFrame({\"id\": X_test[\"id\"], \"Label\": y_pred_test})\n",
    "submission_df[\"id\"] = submission_df[\"id\"].astype(int)\n",
    "submission_df.to_csv(\"XGBOOTS.csv\", sep=\",\", index=False)"
   ]
  }
 ],
 "metadata": {
  "kernelspec": {
   "display_name": "TD6",
   "language": "python",
   "name": "python3"
  },
  "language_info": {
   "codemirror_mode": {
    "name": "ipython",
    "version": 3
   },
   "file_extension": ".py",
   "mimetype": "text/x-python",
   "name": "python",
   "nbconvert_exporter": "python",
   "pygments_lexer": "ipython3",
   "version": "3.12.4"
  }
 },
 "nbformat": 4,
 "nbformat_minor": 2
}
