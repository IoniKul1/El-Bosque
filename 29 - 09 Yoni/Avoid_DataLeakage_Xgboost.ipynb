{
 "cells": [
  {
   "cell_type": "code",
   "execution_count": 1,
   "metadata": {},
   "outputs": [],
   "source": [
    "import pandas as pd\n",
    "import time\n",
    "import gc\n",
    "import sklearn\n",
    "from sklearn.impute import SimpleImputer\n",
    "from xgboost import XGBClassifier\n",
    "from sklearn.pipeline import make_pipeline\n",
    "from sklearn.model_selection import cross_val_score\n",
    "import matplotlib.pyplot as plt\n",
    "import seaborn as sns\n",
    "from sklearn.model_selection import train_test_split\n",
    "from sklearn.preprocessing import OneHotEncoder\n",
    "from sklearn.metrics import roc_auc_score\n",
    "from sklearn.compose import ColumnTransformer\n",
    "from sklearn.preprocessing import StandardScaler\n",
    "from sklearn.model_selection import StratifiedKFold\n",
    "from sklearn.pipeline import Pipeline\n",
    "from sklearn.feature_selection import mutual_info_classif\n",
    "from sklearn.preprocessing import LabelEncoder\n",
    "from sklearn.preprocessing import MinMaxScaler\n",
    "import numpy as np\n",
    "from scipy.sparse import hstack\n",
    "from scipy.sparse import coo_matrix\n",
    "import xgboost as xgb\n",
    "from scipy.stats import uniform\n",
    "from sklearn.model_selection import ParameterSampler\n",
    "from sklearn.metrics import balanced_accuracy_score, roc_auc_score, make_scorer\n",
    "from sklearn.metrics import confusion_matrix\n",
    "from sklearn.tree import DecisionTreeClassifier\n",
    "from sklearn.metrics import roc_auc_score\n",
    "from sklearn.preprocessing import LabelEncoder\n",
    "from scipy.stats import uniform\n",
    "import ast\n",
    "from sklearn.metrics import accuracy_score\n",
    "import matplotlib.pyplot as plt\n",
    "from sklearn.metrics import roc_curve, auc\n",
    "from xgboost.callback import EarlyStopping\n",
    "import matplotlib.pyplot as plt\n",
    "from sklearn.metrics import roc_curve, auc\n",
    "\n",
    "random_state = 42\n",
    "np.random.seed(random_state)"
   ]
  },
  {
   "cell_type": "code",
   "execution_count": 41,
   "metadata": {},
   "outputs": [
    {
     "ename": "KeyboardInterrupt",
     "evalue": "",
     "output_type": "error",
     "traceback": [
      "\u001b[0;31m---------------------------------------------------------------------------\u001b[0m",
      "\u001b[0;31mKeyboardInterrupt\u001b[0m                         Traceback (most recent call last)",
      "Cell \u001b[0;32mIn[41], line 9\u001b[0m\n\u001b[1;32m      7\u001b[0m data \u001b[38;5;241m=\u001b[39m pd\u001b[38;5;241m.\u001b[39mconcat(([ctr_15,ctr_16]))\n\u001b[1;32m      8\u001b[0m \u001b[38;5;66;03m#data = ctr_15\u001b[39;00m\n\u001b[0;32m----> 9\u001b[0m ctr_test \u001b[38;5;241m=\u001b[39m \u001b[43mpd\u001b[49m\u001b[38;5;241;43m.\u001b[39;49m\u001b[43mread_csv\u001b[49m\u001b[43m(\u001b[49m\u001b[38;5;124;43m'\u001b[39;49m\u001b[38;5;124;43m/Users/ionikullock/Desktop/UTDT-Tecnología Digital/TD VI/Trabajo práctico 2/Datos/ctr_test.csv\u001b[39;49m\u001b[38;5;124;43m'\u001b[39;49m\u001b[43m)\u001b[49m\n\u001b[1;32m     10\u001b[0m ctr_test \u001b[38;5;241m=\u001b[39m ctr_test\u001b[38;5;241m.\u001b[39mdrop(columns\u001b[38;5;241m=\u001b[39m\u001b[38;5;124m\"\u001b[39m\u001b[38;5;124mid\u001b[39m\u001b[38;5;124m\"\u001b[39m, errors\u001b[38;5;241m=\u001b[39m\u001b[38;5;124m'\u001b[39m\u001b[38;5;124mignore\u001b[39m\u001b[38;5;124m'\u001b[39m)\n\u001b[1;32m     12\u001b[0m \u001b[38;5;28mprint\u001b[39m(\u001b[38;5;124m\"\u001b[39m\u001b[38;5;124mTamaño del conjunto \u001b[39m\u001b[38;5;124m\"\u001b[39m, data\u001b[38;5;241m.\u001b[39mshape)\n",
      "File \u001b[0;32m/opt/anaconda3/envs/TD6/lib/python3.12/site-packages/pandas/io/parsers/readers.py:1026\u001b[0m, in \u001b[0;36mread_csv\u001b[0;34m(filepath_or_buffer, sep, delimiter, header, names, index_col, usecols, dtype, engine, converters, true_values, false_values, skipinitialspace, skiprows, skipfooter, nrows, na_values, keep_default_na, na_filter, verbose, skip_blank_lines, parse_dates, infer_datetime_format, keep_date_col, date_parser, date_format, dayfirst, cache_dates, iterator, chunksize, compression, thousands, decimal, lineterminator, quotechar, quoting, doublequote, escapechar, comment, encoding, encoding_errors, dialect, on_bad_lines, delim_whitespace, low_memory, memory_map, float_precision, storage_options, dtype_backend)\u001b[0m\n\u001b[1;32m   1013\u001b[0m kwds_defaults \u001b[38;5;241m=\u001b[39m _refine_defaults_read(\n\u001b[1;32m   1014\u001b[0m     dialect,\n\u001b[1;32m   1015\u001b[0m     delimiter,\n\u001b[0;32m   (...)\u001b[0m\n\u001b[1;32m   1022\u001b[0m     dtype_backend\u001b[38;5;241m=\u001b[39mdtype_backend,\n\u001b[1;32m   1023\u001b[0m )\n\u001b[1;32m   1024\u001b[0m kwds\u001b[38;5;241m.\u001b[39mupdate(kwds_defaults)\n\u001b[0;32m-> 1026\u001b[0m \u001b[38;5;28;01mreturn\u001b[39;00m \u001b[43m_read\u001b[49m\u001b[43m(\u001b[49m\u001b[43mfilepath_or_buffer\u001b[49m\u001b[43m,\u001b[49m\u001b[43m \u001b[49m\u001b[43mkwds\u001b[49m\u001b[43m)\u001b[49m\n",
      "File \u001b[0;32m/opt/anaconda3/envs/TD6/lib/python3.12/site-packages/pandas/io/parsers/readers.py:620\u001b[0m, in \u001b[0;36m_read\u001b[0;34m(filepath_or_buffer, kwds)\u001b[0m\n\u001b[1;32m    617\u001b[0m _validate_names(kwds\u001b[38;5;241m.\u001b[39mget(\u001b[38;5;124m\"\u001b[39m\u001b[38;5;124mnames\u001b[39m\u001b[38;5;124m\"\u001b[39m, \u001b[38;5;28;01mNone\u001b[39;00m))\n\u001b[1;32m    619\u001b[0m \u001b[38;5;66;03m# Create the parser.\u001b[39;00m\n\u001b[0;32m--> 620\u001b[0m parser \u001b[38;5;241m=\u001b[39m \u001b[43mTextFileReader\u001b[49m\u001b[43m(\u001b[49m\u001b[43mfilepath_or_buffer\u001b[49m\u001b[43m,\u001b[49m\u001b[43m \u001b[49m\u001b[38;5;241;43m*\u001b[39;49m\u001b[38;5;241;43m*\u001b[39;49m\u001b[43mkwds\u001b[49m\u001b[43m)\u001b[49m\n\u001b[1;32m    622\u001b[0m \u001b[38;5;28;01mif\u001b[39;00m chunksize \u001b[38;5;129;01mor\u001b[39;00m iterator:\n\u001b[1;32m    623\u001b[0m     \u001b[38;5;28;01mreturn\u001b[39;00m parser\n",
      "File \u001b[0;32m/opt/anaconda3/envs/TD6/lib/python3.12/site-packages/pandas/io/parsers/readers.py:1620\u001b[0m, in \u001b[0;36mTextFileReader.__init__\u001b[0;34m(self, f, engine, **kwds)\u001b[0m\n\u001b[1;32m   1617\u001b[0m     \u001b[38;5;28mself\u001b[39m\u001b[38;5;241m.\u001b[39moptions[\u001b[38;5;124m\"\u001b[39m\u001b[38;5;124mhas_index_names\u001b[39m\u001b[38;5;124m\"\u001b[39m] \u001b[38;5;241m=\u001b[39m kwds[\u001b[38;5;124m\"\u001b[39m\u001b[38;5;124mhas_index_names\u001b[39m\u001b[38;5;124m\"\u001b[39m]\n\u001b[1;32m   1619\u001b[0m \u001b[38;5;28mself\u001b[39m\u001b[38;5;241m.\u001b[39mhandles: IOHandles \u001b[38;5;241m|\u001b[39m \u001b[38;5;28;01mNone\u001b[39;00m \u001b[38;5;241m=\u001b[39m \u001b[38;5;28;01mNone\u001b[39;00m\n\u001b[0;32m-> 1620\u001b[0m \u001b[38;5;28mself\u001b[39m\u001b[38;5;241m.\u001b[39m_engine \u001b[38;5;241m=\u001b[39m \u001b[38;5;28;43mself\u001b[39;49m\u001b[38;5;241;43m.\u001b[39;49m\u001b[43m_make_engine\u001b[49m\u001b[43m(\u001b[49m\u001b[43mf\u001b[49m\u001b[43m,\u001b[49m\u001b[43m \u001b[49m\u001b[38;5;28;43mself\u001b[39;49m\u001b[38;5;241;43m.\u001b[39;49m\u001b[43mengine\u001b[49m\u001b[43m)\u001b[49m\n",
      "File \u001b[0;32m/opt/anaconda3/envs/TD6/lib/python3.12/site-packages/pandas/io/parsers/readers.py:1898\u001b[0m, in \u001b[0;36mTextFileReader._make_engine\u001b[0;34m(self, f, engine)\u001b[0m\n\u001b[1;32m   1895\u001b[0m     \u001b[38;5;28;01mraise\u001b[39;00m \u001b[38;5;167;01mValueError\u001b[39;00m(msg)\n\u001b[1;32m   1897\u001b[0m \u001b[38;5;28;01mtry\u001b[39;00m:\n\u001b[0;32m-> 1898\u001b[0m     \u001b[38;5;28;01mreturn\u001b[39;00m \u001b[43mmapping\u001b[49m\u001b[43m[\u001b[49m\u001b[43mengine\u001b[49m\u001b[43m]\u001b[49m\u001b[43m(\u001b[49m\u001b[43mf\u001b[49m\u001b[43m,\u001b[49m\u001b[43m \u001b[49m\u001b[38;5;241;43m*\u001b[39;49m\u001b[38;5;241;43m*\u001b[39;49m\u001b[38;5;28;43mself\u001b[39;49m\u001b[38;5;241;43m.\u001b[39;49m\u001b[43moptions\u001b[49m\u001b[43m)\u001b[49m\n\u001b[1;32m   1899\u001b[0m \u001b[38;5;28;01mexcept\u001b[39;00m \u001b[38;5;167;01mException\u001b[39;00m:\n\u001b[1;32m   1900\u001b[0m     \u001b[38;5;28;01mif\u001b[39;00m \u001b[38;5;28mself\u001b[39m\u001b[38;5;241m.\u001b[39mhandles \u001b[38;5;129;01mis\u001b[39;00m \u001b[38;5;129;01mnot\u001b[39;00m \u001b[38;5;28;01mNone\u001b[39;00m:\n",
      "File \u001b[0;32m/opt/anaconda3/envs/TD6/lib/python3.12/site-packages/pandas/io/parsers/c_parser_wrapper.py:93\u001b[0m, in \u001b[0;36mCParserWrapper.__init__\u001b[0;34m(self, src, **kwds)\u001b[0m\n\u001b[1;32m     90\u001b[0m \u001b[38;5;28;01mif\u001b[39;00m kwds[\u001b[38;5;124m\"\u001b[39m\u001b[38;5;124mdtype_backend\u001b[39m\u001b[38;5;124m\"\u001b[39m] \u001b[38;5;241m==\u001b[39m \u001b[38;5;124m\"\u001b[39m\u001b[38;5;124mpyarrow\u001b[39m\u001b[38;5;124m\"\u001b[39m:\n\u001b[1;32m     91\u001b[0m     \u001b[38;5;66;03m# Fail here loudly instead of in cython after reading\u001b[39;00m\n\u001b[1;32m     92\u001b[0m     import_optional_dependency(\u001b[38;5;124m\"\u001b[39m\u001b[38;5;124mpyarrow\u001b[39m\u001b[38;5;124m\"\u001b[39m)\n\u001b[0;32m---> 93\u001b[0m \u001b[38;5;28mself\u001b[39m\u001b[38;5;241m.\u001b[39m_reader \u001b[38;5;241m=\u001b[39m \u001b[43mparsers\u001b[49m\u001b[38;5;241;43m.\u001b[39;49m\u001b[43mTextReader\u001b[49m\u001b[43m(\u001b[49m\u001b[43msrc\u001b[49m\u001b[43m,\u001b[49m\u001b[43m \u001b[49m\u001b[38;5;241;43m*\u001b[39;49m\u001b[38;5;241;43m*\u001b[39;49m\u001b[43mkwds\u001b[49m\u001b[43m)\u001b[49m\n\u001b[1;32m     95\u001b[0m \u001b[38;5;28mself\u001b[39m\u001b[38;5;241m.\u001b[39munnamed_cols \u001b[38;5;241m=\u001b[39m \u001b[38;5;28mself\u001b[39m\u001b[38;5;241m.\u001b[39m_reader\u001b[38;5;241m.\u001b[39munnamed_cols\n\u001b[1;32m     97\u001b[0m \u001b[38;5;66;03m# error: Cannot determine type of 'names'\u001b[39;00m\n",
      "File \u001b[0;32mparsers.pyx:574\u001b[0m, in \u001b[0;36mpandas._libs.parsers.TextReader.__cinit__\u001b[0;34m()\u001b[0m\n",
      "File \u001b[0;32mparsers.pyx:663\u001b[0m, in \u001b[0;36mpandas._libs.parsers.TextReader._get_header\u001b[0;34m()\u001b[0m\n",
      "File \u001b[0;32mparsers.pyx:874\u001b[0m, in \u001b[0;36mpandas._libs.parsers.TextReader._tokenize_rows\u001b[0;34m()\u001b[0m\n",
      "File \u001b[0;32mparsers.pyx:891\u001b[0m, in \u001b[0;36mpandas._libs.parsers.TextReader._check_tokenize_status\u001b[0;34m()\u001b[0m\n",
      "File \u001b[0;32mparsers.pyx:2053\u001b[0m, in \u001b[0;36mpandas._libs.parsers.raise_parser_error\u001b[0;34m()\u001b[0m\n",
      "\u001b[0;31mKeyboardInterrupt\u001b[0m: "
     ]
    }
   ],
   "source": [
    "ctr_15 = pd.read_csv('/Users/ionikullock/Desktop/UTDT-Tecnología Digital/TD VI/Trabajo práctico 2/Datos/ctr_15.csv')\n",
    "ctr_16 = pd.read_csv('/Users/ionikullock/Desktop/UTDT-Tecnología Digital/TD VI/Trabajo práctico 2/Datos/ctr_16.csv')\n",
    "#ctr_17 = pd.read_csv('/Users/ionikullock/Desktop/UTDT-Tecnología Digital/TD VI/Trabajo práctico 2/Datos/ctr_17.csv') \n",
    "#ctr_18 = pd.read_csv('/Users/ionikullock/Desktop/UTDT-Tecnología Digital/TD VI/Trabajo práctico 2/Datos/ctr_18.csv')\n",
    "#ctr_19 = pd.read_csv('/Users/ionikullock/Desktop/UTDT-Tecnología Digital/TD VI/Trabajo práctico 2/Datos/ctr_19.csv') \n",
    "#ctr_20 = pd.read_csv('/Users/ionikullock/Desktop/UTDT-Tecnología Digital/TD VI/Trabajo práctico 2/Datos/ctr_20.csv')    \n",
    "data = pd.concat(([ctr_15,ctr_16]))\n",
    "#data = ctr_15\n",
    "ctr_test = pd.read_csv('/Users/ionikullock/Desktop/UTDT-Tecnología Digital/TD VI/Trabajo práctico 2/Datos/ctr_test.csv')\n",
    "ctr_test = ctr_test.drop(columns=\"id\", errors='ignore')\n",
    "\n",
    "print(\"Tamaño del conjunto \", data.shape)\n",
    "print(\"Tamaño del conjunto \", ctr_test.shape)\n"
   ]
  },
  {
   "cell_type": "code",
   "execution_count": 28,
   "metadata": {},
   "outputs": [
    {
     "name": "stdout",
     "output_type": "stream",
     "text": [
      "Columnas eliminadas: ['device_id', 'action_categorical_0', 'action_categorical_2', 'action_categorical_4', 'auction_categorical_0', 'auction_categorical_11', 'auction_categorical_3', 'Auction_time', 'auction_categorical_10', 'action_categorical_7', 'action_categorical_6', 'auction_boolean_1', 'auction_boolean_2', 'creative_categorical_10', 'auction_categorical_4', 'gender', 'creative_categorical_1', 'auction_categorical_6', 'creative_categorical_3', 'auction_categorical_2', 'action_categorical_5', 'auction_categorical_1', 'auction_categorical_5', 'action_categorical_0', 'auction_categorical_0', 'creative_categorical_9', 'creative_categorical_11', 'creative_categorical_5', 'creative_categorical_7', 'creative_categorical_12', 'creative_categorical_8', 'creative_categorical_4', 'creative_categorical_6', 'action_categorical_1', 'creative_categorical_2', 'action_categorical_3', 'action_categorical_2', 'auction_categorical_11', 'action_categorical_4', 'creative_categorical_0', 'auction_boolean_0', 'auction_age']\n",
      "Tamaño del data después de la eliminación: (2331937, 19)\n",
      "Tamaño del test después de la eliminación: (1139639, 18)\n",
      "<class 'pandas.core.frame.DataFrame'>\n",
      "Index: 2331937 entries, 0 to 1092412\n",
      "Data columns (total 19 columns):\n",
      " #   Column                  Dtype  \n",
      "---  ------                  -----  \n",
      " 0   Label                   int64  \n",
      " 1   action_list_0           object \n",
      " 2   action_list_1           object \n",
      " 3   action_list_2           object \n",
      " 4   auction_bidfloor        float64\n",
      " 5   auction_categorical_12  object \n",
      " 6   auction_categorical_7   object \n",
      " 7   auction_categorical_8   object \n",
      " 8   auction_categorical_9   object \n",
      " 9   auction_list_0          object \n",
      " 10  auction_time            float64\n",
      " 11  creative_height         float64\n",
      " 12  creative_width          float64\n",
      " 13  device_id_type          object \n",
      " 14  has_video               bool   \n",
      " 15  timezone_offset         float64\n",
      " 16  creative_height_square  float64\n",
      " 17  creative_width_square   float64\n",
      " 18  creative_area           float64\n",
      "dtypes: bool(1), float64(8), int64(1), object(9)\n",
      "memory usage: 340.3+ MB\n"
     ]
    }
   ],
   "source": [
    "# Lista de columnas a eliminar\n",
    "columns_to_remove = [\n",
    "    'action_categorical_0', 'action_categorical_2', 'action_categorical_4', \n",
    "    'auction_categorical_0', 'auction_categorical_11', 'auction_categorical_3', 'auction_time', \n",
    "    'auction_categorical_10', 'action_categorical_7', 'action_categorical_6',\n",
    "    'auction_boolean_1', 'auction_boolean_2', 'creative_categorical_10',\n",
    "    'auction_categorical_4', 'gender', 'creative_categorical_1', \n",
    "    'auction_categorical_6', 'creative_categorical_3',\n",
    "    'auction_categorical_2', 'action_categorical_5',\n",
    "    'auction_categorical_1', 'auction_categorical_5', 'device_id_type',\n",
    "    'auction_categorical_8', 'action_categorical_0', 'auction_categorical_0',\n",
    "    'creative_categorical_9', 'creative_categorical_11', 'creative_categorical_5',\n",
    "    'creative_categorical_7', 'creative_categorical_12', 'creative_categorical_8',\n",
    "    'creative_categorical_4', 'creative_categorical_6', 'action_categorical_1',\n",
    "    'creative_categorical_2', 'action_categorical_3', 'action_categorical_2',\n",
    "    'auction_categorical_11', 'action_categorical_4',\n",
    "    'creative_categorical_0', 'device_id', 'auction_boolean_0',\n",
    "      #'action_list_2','action_list_1','action_list_0', 'auction_list_0'\n",
    "]\n",
    "\n",
    "ctr_test['creative_height_square'] = ctr_test['creative_height'] * ctr_test['creative_height']\n",
    "ctr_test['creative_width_square'] = ctr_test['creative_width'] * ctr_test['creative_width']\n",
    "ctr_test['creative_area'] = ctr_test['creative_height'] * ctr_test['creative_width']\n",
    "\n",
    "data['creative_height_square'] = data['creative_height'] * data['creative_height']\n",
    "data['creative_width_square'] = data['creative_width'] * data['creative_width']\n",
    "data['creative_area'] = data['creative_height'] * data['creative_width']\n",
    "\n",
    "data = data.drop(columns=columns_to_remove, errors='ignore')\n",
    "ctr_test = ctr_test.drop(columns=columns_to_remove, errors='ignore')\n",
    "\n",
    "print(f\"Columnas eliminadas: {columns_to_remove}\")\n",
    "print(f\"Tamaño del data después de la eliminación: {data.shape}\")\n",
    "print(f\"Tamaño del test después de la eliminación: {ctr_test.shape}\")\n",
    "data.info()\n",
    "\n"
   ]
  },
  {
   "cell_type": "code",
   "execution_count": 29,
   "metadata": {},
   "outputs": [
    {
     "name": "stdout",
     "output_type": "stream",
     "text": [
      "<class 'pandas.core.frame.DataFrame'>\n",
      "Index: 2331937 entries, 0 to 1092412\n",
      "Data columns (total 19 columns):\n",
      " #   Column                  Dtype  \n",
      "---  ------                  -----  \n",
      " 0   Label                   int64  \n",
      " 1   action_list_0           int64  \n",
      " 2   action_list_1           int64  \n",
      " 3   action_list_2           int64  \n",
      " 4   auction_bidfloor        float64\n",
      " 5   auction_categorical_12  object \n",
      " 6   auction_categorical_7   object \n",
      " 7   auction_categorical_8   object \n",
      " 8   auction_categorical_9   object \n",
      " 9   auction_list_0          int64  \n",
      " 10  auction_time            float64\n",
      " 11  creative_height         float64\n",
      " 12  creative_width          float64\n",
      " 13  device_id_type          object \n",
      " 14  has_video               bool   \n",
      " 15  timezone_offset         float64\n",
      " 16  creative_height_square  float64\n",
      " 17  creative_width_square   float64\n",
      " 18  creative_area           float64\n",
      "dtypes: bool(1), float64(8), int64(5), object(5)\n",
      "memory usage: 340.3+ MB\n",
      "<class 'pandas.core.frame.DataFrame'>\n",
      "RangeIndex: 1139639 entries, 0 to 1139638\n",
      "Data columns (total 18 columns):\n",
      " #   Column                  Non-Null Count    Dtype  \n",
      "---  ------                  --------------    -----  \n",
      " 0   action_list_0           1139639 non-null  int64  \n",
      " 1   action_list_1           1139639 non-null  int64  \n",
      " 2   action_list_2           1139639 non-null  int64  \n",
      " 3   auction_bidfloor        1139639 non-null  float64\n",
      " 4   auction_categorical_12  1139639 non-null  object \n",
      " 5   auction_categorical_7   1139551 non-null  object \n",
      " 6   auction_categorical_8   1139639 non-null  object \n",
      " 7   auction_categorical_9   857836 non-null   object \n",
      " 8   auction_list_0          1139639 non-null  int64  \n",
      " 9   auction_time            1139639 non-null  float64\n",
      " 10  creative_height         938958 non-null   float64\n",
      " 11  creative_width          938958 non-null   float64\n",
      " 12  device_id_type          1139639 non-null  object \n",
      " 13  has_video               1139639 non-null  bool   \n",
      " 14  timezone_offset         1131665 non-null  float64\n",
      " 15  creative_height_square  938958 non-null   float64\n",
      " 16  creative_width_square   938958 non-null   float64\n",
      " 17  creative_area           938958 non-null   float64\n",
      "dtypes: bool(1), float64(8), int64(4), object(5)\n",
      "memory usage: 148.9+ MB\n"
     ]
    }
   ],
   "source": [
    "def impute_count(value):\n",
    "    if isinstance(value, list):  # Verificar si el valor es una lista\n",
    "        return len(value)  # Devolver el número de elementos de la lista\n",
    "    else:\n",
    "        return 0  # Valor predeterminado si no es una lista\n",
    "\n",
    "# Aplicar la función a las columnas correspondientes\n",
    "data['action_list_2'] = data['action_list_2'].apply(impute_count)\n",
    "ctr_test['action_list_2'] = ctr_test['action_list_2'].apply(impute_count)\n",
    "\n",
    "data['action_list_1'] = data['action_list_1'].apply(impute_count)\n",
    "ctr_test['action_list_1'] = ctr_test['action_list_1'].apply(impute_count)\n",
    "\n",
    "data['action_list_0'] = data['action_list_0'].apply(impute_count)\n",
    "ctr_test['action_list_0'] = ctr_test['action_list_0'].apply(impute_count)\n",
    "\n",
    "data['auction_list_0'] = data['auction_list_0'].apply(impute_count)\n",
    "ctr_test['auction_list_0'] = ctr_test['auction_list_0'].apply(impute_count)\n",
    "\n",
    "# Mostrar información de los DataFrames\n",
    "data.info()\n",
    "ctr_test.info()"
   ]
  },
  {
   "cell_type": "code",
   "execution_count": 6,
   "metadata": {},
   "outputs": [
    {
     "ename": "KeyError",
     "evalue": "'action_list_2'",
     "output_type": "error",
     "traceback": [
      "\u001b[0;31m---------------------------------------------------------------------------\u001b[0m",
      "\u001b[0;31mKeyError\u001b[0m                                  Traceback (most recent call last)",
      "File \u001b[0;32m/opt/anaconda3/envs/TD6/lib/python3.12/site-packages/pandas/core/indexes/base.py:3805\u001b[0m, in \u001b[0;36mIndex.get_loc\u001b[0;34m(self, key)\u001b[0m\n\u001b[1;32m   3804\u001b[0m \u001b[38;5;28;01mtry\u001b[39;00m:\n\u001b[0;32m-> 3805\u001b[0m     \u001b[38;5;28;01mreturn\u001b[39;00m \u001b[38;5;28;43mself\u001b[39;49m\u001b[38;5;241;43m.\u001b[39;49m\u001b[43m_engine\u001b[49m\u001b[38;5;241;43m.\u001b[39;49m\u001b[43mget_loc\u001b[49m\u001b[43m(\u001b[49m\u001b[43mcasted_key\u001b[49m\u001b[43m)\u001b[49m\n\u001b[1;32m   3806\u001b[0m \u001b[38;5;28;01mexcept\u001b[39;00m \u001b[38;5;167;01mKeyError\u001b[39;00m \u001b[38;5;28;01mas\u001b[39;00m err:\n",
      "File \u001b[0;32mindex.pyx:167\u001b[0m, in \u001b[0;36mpandas._libs.index.IndexEngine.get_loc\u001b[0;34m()\u001b[0m\n",
      "File \u001b[0;32mindex.pyx:196\u001b[0m, in \u001b[0;36mpandas._libs.index.IndexEngine.get_loc\u001b[0;34m()\u001b[0m\n",
      "File \u001b[0;32mpandas/_libs/hashtable_class_helper.pxi:7081\u001b[0m, in \u001b[0;36mpandas._libs.hashtable.PyObjectHashTable.get_item\u001b[0;34m()\u001b[0m\n",
      "File \u001b[0;32mpandas/_libs/hashtable_class_helper.pxi:7089\u001b[0m, in \u001b[0;36mpandas._libs.hashtable.PyObjectHashTable.get_item\u001b[0;34m()\u001b[0m\n",
      "\u001b[0;31mKeyError\u001b[0m: 'action_list_2'",
      "\nThe above exception was the direct cause of the following exception:\n",
      "\u001b[0;31mKeyError\u001b[0m                                  Traceback (most recent call last)",
      "Cell \u001b[0;32mIn[6], line 12\u001b[0m\n\u001b[1;32m      9\u001b[0m         \u001b[38;5;28;01mreturn\u001b[39;00m \u001b[38;5;241m0\u001b[39m  \u001b[38;5;66;03m# Valor predeterminado si no es una lista\u001b[39;00m\n\u001b[1;32m     11\u001b[0m \u001b[38;5;66;03m# Aplicar la función a la columna 'action_list_2'\u001b[39;00m\n\u001b[0;32m---> 12\u001b[0m data[\u001b[38;5;124m'\u001b[39m\u001b[38;5;124maction_list_2\u001b[39m\u001b[38;5;124m'\u001b[39m] \u001b[38;5;241m=\u001b[39m \u001b[43mdata\u001b[49m\u001b[43m[\u001b[49m\u001b[38;5;124;43m'\u001b[39;49m\u001b[38;5;124;43maction_list_2\u001b[39;49m\u001b[38;5;124;43m'\u001b[39;49m\u001b[43m]\u001b[49m\u001b[38;5;241m.\u001b[39mapply(impute_average)\n\u001b[1;32m     13\u001b[0m ctr_test[\u001b[38;5;124m'\u001b[39m\u001b[38;5;124maction_list_2\u001b[39m\u001b[38;5;124m'\u001b[39m] \u001b[38;5;241m=\u001b[39m ctr_test[\u001b[38;5;124m'\u001b[39m\u001b[38;5;124maction_list_2\u001b[39m\u001b[38;5;124m'\u001b[39m]\u001b[38;5;241m.\u001b[39mapply(impute_average)\n\u001b[1;32m     15\u001b[0m data[\u001b[38;5;124m'\u001b[39m\u001b[38;5;124maction_list_1\u001b[39m\u001b[38;5;124m'\u001b[39m] \u001b[38;5;241m=\u001b[39m data[\u001b[38;5;124m'\u001b[39m\u001b[38;5;124maction_list_1\u001b[39m\u001b[38;5;124m'\u001b[39m]\u001b[38;5;241m.\u001b[39mapply(impute_average)\n",
      "File \u001b[0;32m/opt/anaconda3/envs/TD6/lib/python3.12/site-packages/pandas/core/frame.py:4102\u001b[0m, in \u001b[0;36mDataFrame.__getitem__\u001b[0;34m(self, key)\u001b[0m\n\u001b[1;32m   4100\u001b[0m \u001b[38;5;28;01mif\u001b[39;00m \u001b[38;5;28mself\u001b[39m\u001b[38;5;241m.\u001b[39mcolumns\u001b[38;5;241m.\u001b[39mnlevels \u001b[38;5;241m>\u001b[39m \u001b[38;5;241m1\u001b[39m:\n\u001b[1;32m   4101\u001b[0m     \u001b[38;5;28;01mreturn\u001b[39;00m \u001b[38;5;28mself\u001b[39m\u001b[38;5;241m.\u001b[39m_getitem_multilevel(key)\n\u001b[0;32m-> 4102\u001b[0m indexer \u001b[38;5;241m=\u001b[39m \u001b[38;5;28;43mself\u001b[39;49m\u001b[38;5;241;43m.\u001b[39;49m\u001b[43mcolumns\u001b[49m\u001b[38;5;241;43m.\u001b[39;49m\u001b[43mget_loc\u001b[49m\u001b[43m(\u001b[49m\u001b[43mkey\u001b[49m\u001b[43m)\u001b[49m\n\u001b[1;32m   4103\u001b[0m \u001b[38;5;28;01mif\u001b[39;00m is_integer(indexer):\n\u001b[1;32m   4104\u001b[0m     indexer \u001b[38;5;241m=\u001b[39m [indexer]\n",
      "File \u001b[0;32m/opt/anaconda3/envs/TD6/lib/python3.12/site-packages/pandas/core/indexes/base.py:3812\u001b[0m, in \u001b[0;36mIndex.get_loc\u001b[0;34m(self, key)\u001b[0m\n\u001b[1;32m   3807\u001b[0m     \u001b[38;5;28;01mif\u001b[39;00m \u001b[38;5;28misinstance\u001b[39m(casted_key, \u001b[38;5;28mslice\u001b[39m) \u001b[38;5;129;01mor\u001b[39;00m (\n\u001b[1;32m   3808\u001b[0m         \u001b[38;5;28misinstance\u001b[39m(casted_key, abc\u001b[38;5;241m.\u001b[39mIterable)\n\u001b[1;32m   3809\u001b[0m         \u001b[38;5;129;01mand\u001b[39;00m \u001b[38;5;28many\u001b[39m(\u001b[38;5;28misinstance\u001b[39m(x, \u001b[38;5;28mslice\u001b[39m) \u001b[38;5;28;01mfor\u001b[39;00m x \u001b[38;5;129;01min\u001b[39;00m casted_key)\n\u001b[1;32m   3810\u001b[0m     ):\n\u001b[1;32m   3811\u001b[0m         \u001b[38;5;28;01mraise\u001b[39;00m InvalidIndexError(key)\n\u001b[0;32m-> 3812\u001b[0m     \u001b[38;5;28;01mraise\u001b[39;00m \u001b[38;5;167;01mKeyError\u001b[39;00m(key) \u001b[38;5;28;01mfrom\u001b[39;00m \u001b[38;5;21;01merr\u001b[39;00m\n\u001b[1;32m   3813\u001b[0m \u001b[38;5;28;01mexcept\u001b[39;00m \u001b[38;5;167;01mTypeError\u001b[39;00m:\n\u001b[1;32m   3814\u001b[0m     \u001b[38;5;66;03m# If we have a listlike key, _check_indexing_error will raise\u001b[39;00m\n\u001b[1;32m   3815\u001b[0m     \u001b[38;5;66;03m#  InvalidIndexError. Otherwise we fall through and re-raise\u001b[39;00m\n\u001b[1;32m   3816\u001b[0m     \u001b[38;5;66;03m#  the TypeError.\u001b[39;00m\n\u001b[1;32m   3817\u001b[0m     \u001b[38;5;28mself\u001b[39m\u001b[38;5;241m.\u001b[39m_check_indexing_error(key)\n",
      "\u001b[0;31mKeyError\u001b[0m: 'action_list_2'"
     ]
    }
   ],
   "source": [
    "def impute_average(value):\n",
    "    if isinstance(value, list):  # Verificar si el valor es una lista\n",
    "        # Convertir todos los elementos de la lista a enteros, ignorando cualquier dato no convertible\n",
    "        int_list = [int(x) for x in value if isinstance(x, (int, str)) and str(x).isdigit()]\n",
    "        if len(int_list) == 0:\n",
    "            return 0  # o cualquier valor predeterminado para listas vacías\n",
    "        return int(sum(int_list) / len(int_list))\n",
    "    else:\n",
    "        return 0  # Valor predeterminado si no es una lista\n",
    "\n",
    "# Aplicar la función a la columna 'action_list_2'\n",
    "data['action_list_2'] = data['action_list_2'].apply(impute_average)\n",
    "ctr_test['action_list_2'] = ctr_test['action_list_2'].apply(impute_average)\n",
    "\n",
    "data['action_list_1'] = data['action_list_1'].apply(impute_average)\n",
    "ctr_test['action_list_1'] = ctr_test['action_list_1'].apply(impute_average)\n",
    "\n",
    "data['action_list_0'] = data['action_list_0'].apply(impute_average)\n",
    "ctr_test['action_list_0'] = ctr_test['action_list_0'].apply(impute_average)\n",
    "\n",
    "data['auction_list_0'] = data['auction_list_0'].apply(impute_average)\n",
    "ctr_test['auction_list_0'] = ctr_test['auction_list_0'].apply(impute_average)\n",
    "\n",
    "data.info()\n",
    "ctr_test.info()\n"
   ]
  },
  {
   "cell_type": "code",
   "execution_count": 30,
   "metadata": {},
   "outputs": [
    {
     "name": "stdout",
     "output_type": "stream",
     "text": [
      "Cantidad de datos de train: 1865549\n",
      "Cantidad de datos de validación: 466388\n",
      "Tamaño del data después de la eliminación: (2331937, 19)\n",
      "Tamaño del test después de la eliminación: (1139639, 18)\n"
     ]
    }
   ],
   "source": [
    "y = data[['Label']].copy() \n",
    "X = data.drop('Label', axis = 1)\n",
    "\n",
    "X_train, X_val, Y_train, Y_val = train_test_split(X, y,\n",
    "                                                  train_size = 0.8,\n",
    "                                                  random_state = 32,\n",
    "                                                  stratify = y)\n",
    "print(f'Cantidad de datos de train: {len(X_train)}')\n",
    "print(f'Cantidad de datos de validación: {len(X_val)}')\n",
    "print(f\"Tamaño del data después de la eliminación: {data.shape}\")\n",
    "print(f\"Tamaño del test después de la eliminación: {ctr_test.shape}\")\n"
   ]
  },
  {
   "cell_type": "code",
   "execution_count": 5,
   "metadata": {},
   "outputs": [
    {
     "name": "stderr",
     "output_type": "stream",
     "text": [
      "/var/folders/m6/yrlm4ckj0r71yq2s7_1v54kh0000gn/T/ipykernel_54855/3841489051.py:5: FutureWarning: A value is trying to be set on a copy of a DataFrame or Series through chained assignment using an inplace method.\n",
      "The behavior will change in pandas 3.0. This inplace method will never work because the intermediate object on which we are setting values always behaves as a copy.\n",
      "\n",
      "For example, when doing 'df[col].method(value, inplace=True)', try using 'df.method({col: value}, inplace=True)' or df[col] = df[col].method(value) instead, to perform the operation inplace on the original object.\n",
      "\n",
      "\n",
      "  df[col].fillna(mode_value, inplace=True)\n",
      "/var/folders/m6/yrlm4ckj0r71yq2s7_1v54kh0000gn/T/ipykernel_54855/3841489051.py:10: FutureWarning: A value is trying to be set on a copy of a DataFrame or Series through chained assignment using an inplace method.\n",
      "The behavior will change in pandas 3.0. This inplace method will never work because the intermediate object on which we are setting values always behaves as a copy.\n",
      "\n",
      "For example, when doing 'df[col].method(value, inplace=True)', try using 'df.method({col: value}, inplace=True)' or df[col] = df[col].method(value) instead, to perform the operation inplace on the original object.\n",
      "\n",
      "\n",
      "  df[col].fillna(mode_value, inplace=True)\n",
      "/var/folders/m6/yrlm4ckj0r71yq2s7_1v54kh0000gn/T/ipykernel_54855/3841489051.py:5: FutureWarning: A value is trying to be set on a copy of a DataFrame or Series through chained assignment using an inplace method.\n",
      "The behavior will change in pandas 3.0. This inplace method will never work because the intermediate object on which we are setting values always behaves as a copy.\n",
      "\n",
      "For example, when doing 'df[col].method(value, inplace=True)', try using 'df.method({col: value}, inplace=True)' or df[col] = df[col].method(value) instead, to perform the operation inplace on the original object.\n",
      "\n",
      "\n",
      "  df[col].fillna(mode_value, inplace=True)\n",
      "/var/folders/m6/yrlm4ckj0r71yq2s7_1v54kh0000gn/T/ipykernel_54855/3841489051.py:10: FutureWarning: A value is trying to be set on a copy of a DataFrame or Series through chained assignment using an inplace method.\n",
      "The behavior will change in pandas 3.0. This inplace method will never work because the intermediate object on which we are setting values always behaves as a copy.\n",
      "\n",
      "For example, when doing 'df[col].method(value, inplace=True)', try using 'df.method({col: value}, inplace=True)' or df[col] = df[col].method(value) instead, to perform the operation inplace on the original object.\n",
      "\n",
      "\n",
      "  df[col].fillna(mode_value, inplace=True)\n",
      "/var/folders/m6/yrlm4ckj0r71yq2s7_1v54kh0000gn/T/ipykernel_54855/3841489051.py:5: FutureWarning: A value is trying to be set on a copy of a DataFrame or Series through chained assignment using an inplace method.\n",
      "The behavior will change in pandas 3.0. This inplace method will never work because the intermediate object on which we are setting values always behaves as a copy.\n",
      "\n",
      "For example, when doing 'df[col].method(value, inplace=True)', try using 'df.method({col: value}, inplace=True)' or df[col] = df[col].method(value) instead, to perform the operation inplace on the original object.\n",
      "\n",
      "\n",
      "  df[col].fillna(mode_value, inplace=True)\n"
     ]
    },
    {
     "name": "stdout",
     "output_type": "stream",
     "text": [
      "Tamaño del data después de rellenar NaNs: (1239524, 10)\n",
      "Tamaño del test después de rellenar NaNs: (247905, 9)\n",
      "Tamaño del test después de rellenar NaNs: (1139639, 9)\n"
     ]
    },
    {
     "name": "stderr",
     "output_type": "stream",
     "text": [
      "/var/folders/m6/yrlm4ckj0r71yq2s7_1v54kh0000gn/T/ipykernel_54855/3841489051.py:10: FutureWarning: A value is trying to be set on a copy of a DataFrame or Series through chained assignment using an inplace method.\n",
      "The behavior will change in pandas 3.0. This inplace method will never work because the intermediate object on which we are setting values always behaves as a copy.\n",
      "\n",
      "For example, when doing 'df[col].method(value, inplace=True)', try using 'df.method({col: value}, inplace=True)' or df[col] = df[col].method(value) instead, to perform the operation inplace on the original object.\n",
      "\n",
      "\n",
      "  df[col].fillna(mode_value, inplace=True)\n"
     ]
    }
   ],
   "source": [
    "def fill_nans(df):\n",
    "    numeric_columns = df.select_dtypes(include=['number']).columns\n",
    "    for col in numeric_columns:\n",
    "        mode_value = df[col].mode()[0] \n",
    "        df[col].fillna(mode_value, inplace=True)\n",
    "\n",
    "    categorical_columns = df.select_dtypes(include=['object']).columns\n",
    "    for col in categorical_columns:\n",
    "        mode_value = df[col].mode()[0]\n",
    "        df[col].fillna(mode_value, inplace=True)\n",
    "    \n",
    "    return df\n",
    "\n",
    "X_train = fill_nans(X_train)\n",
    "X_val = fill_nans(X_val)\n",
    "ctr_test = fill_nans(ctr_test)\n",
    "\n",
    "print(f\"Tamaño del data después de rellenar NaNs: {data.shape}\")\n",
    "print(f\"Tamaño del test después de rellenar NaNs: {X_val.shape}\")\n",
    "print(f\"Tamaño del test después de rellenar NaNs: {ctr_test.shape}\")"
   ]
  },
  {
   "cell_type": "code",
   "execution_count": 31,
   "metadata": {},
   "outputs": [
    {
     "name": "stdout",
     "output_type": "stream",
     "text": [
      "Shape de data después de OneHotEncoding: (1865549, 136)\n",
      "<class 'pandas.core.frame.DataFrame'>\n",
      "Index: 1865549 entries, 1164505 to 178735\n",
      "Columns: 136 entries, action_list_0 to has_video_True\n",
      "dtypes: float64(8), int64(128)\n",
      "memory usage: 1.9 GB\n"
     ]
    }
   ],
   "source": [
    "def group_rare_categories(column, threshold):\n",
    "    freq = column.value_counts(normalize=True)\n",
    "    rare_categories = freq[freq < threshold].index\n",
    "    return column.apply(lambda x: 'Other' if x in rare_categories else x)\n",
    "\n",
    "threshold = 0.005\n",
    "\n",
    "categorical_columns = X_train.select_dtypes(include=['object']).columns.tolist()\n",
    "\n",
    "if 'action_list_2' in categorical_columns:\n",
    "    categorical_columns.remove('action_list_2')\n",
    "\n",
    "for col in categorical_columns:\n",
    "    X_train[col] = group_rare_categories(X_train[col], threshold)\n",
    "\n",
    "pd_ohe = pd.get_dummies(X_train,\n",
    "                        columns=categorical_columns + ['has_video'],\n",
    "                        sparse=False,\n",
    "                        dummy_na=False,\n",
    "                        dtype=int)\n",
    "\n",
    "print(\"Shape de data después de OneHotEncoding:\", pd_ohe.shape)\n",
    "pd_ohe.info()"
   ]
  },
  {
   "cell_type": "code",
   "execution_count": 32,
   "metadata": {},
   "outputs": [
    {
     "name": "stderr",
     "output_type": "stream",
     "text": [
      "/var/folders/m6/yrlm4ckj0r71yq2s7_1v54kh0000gn/T/ipykernel_85166/583896589.py:5: PerformanceWarning: DataFrame is highly fragmented.  This is usually the result of calling `frame.insert` many times, which has poor performance.  Consider joining all columns at once using pd.concat(axis=1) instead. To get a de-fragmented frame, use `newframe = frame.copy()`\n",
      "  X_val[col] = 0\n",
      "/var/folders/m6/yrlm4ckj0r71yq2s7_1v54kh0000gn/T/ipykernel_85166/583896589.py:5: PerformanceWarning: DataFrame is highly fragmented.  This is usually the result of calling `frame.insert` many times, which has poor performance.  Consider joining all columns at once using pd.concat(axis=1) instead. To get a de-fragmented frame, use `newframe = frame.copy()`\n",
      "  X_val[col] = 0\n",
      "/var/folders/m6/yrlm4ckj0r71yq2s7_1v54kh0000gn/T/ipykernel_85166/583896589.py:5: PerformanceWarning: DataFrame is highly fragmented.  This is usually the result of calling `frame.insert` many times, which has poor performance.  Consider joining all columns at once using pd.concat(axis=1) instead. To get a de-fragmented frame, use `newframe = frame.copy()`\n",
      "  X_val[col] = 0\n",
      "/var/folders/m6/yrlm4ckj0r71yq2s7_1v54kh0000gn/T/ipykernel_85166/583896589.py:5: PerformanceWarning: DataFrame is highly fragmented.  This is usually the result of calling `frame.insert` many times, which has poor performance.  Consider joining all columns at once using pd.concat(axis=1) instead. To get a de-fragmented frame, use `newframe = frame.copy()`\n",
      "  X_val[col] = 0\n",
      "/var/folders/m6/yrlm4ckj0r71yq2s7_1v54kh0000gn/T/ipykernel_85166/583896589.py:5: PerformanceWarning: DataFrame is highly fragmented.  This is usually the result of calling `frame.insert` many times, which has poor performance.  Consider joining all columns at once using pd.concat(axis=1) instead. To get a de-fragmented frame, use `newframe = frame.copy()`\n",
      "  X_val[col] = 0\n",
      "/var/folders/m6/yrlm4ckj0r71yq2s7_1v54kh0000gn/T/ipykernel_85166/583896589.py:5: PerformanceWarning: DataFrame is highly fragmented.  This is usually the result of calling `frame.insert` many times, which has poor performance.  Consider joining all columns at once using pd.concat(axis=1) instead. To get a de-fragmented frame, use `newframe = frame.copy()`\n",
      "  X_val[col] = 0\n",
      "/var/folders/m6/yrlm4ckj0r71yq2s7_1v54kh0000gn/T/ipykernel_85166/583896589.py:5: PerformanceWarning: DataFrame is highly fragmented.  This is usually the result of calling `frame.insert` many times, which has poor performance.  Consider joining all columns at once using pd.concat(axis=1) instead. To get a de-fragmented frame, use `newframe = frame.copy()`\n",
      "  X_val[col] = 0\n",
      "/var/folders/m6/yrlm4ckj0r71yq2s7_1v54kh0000gn/T/ipykernel_85166/583896589.py:5: PerformanceWarning: DataFrame is highly fragmented.  This is usually the result of calling `frame.insert` many times, which has poor performance.  Consider joining all columns at once using pd.concat(axis=1) instead. To get a de-fragmented frame, use `newframe = frame.copy()`\n",
      "  X_val[col] = 0\n",
      "/var/folders/m6/yrlm4ckj0r71yq2s7_1v54kh0000gn/T/ipykernel_85166/583896589.py:5: PerformanceWarning: DataFrame is highly fragmented.  This is usually the result of calling `frame.insert` many times, which has poor performance.  Consider joining all columns at once using pd.concat(axis=1) instead. To get a de-fragmented frame, use `newframe = frame.copy()`\n",
      "  X_val[col] = 0\n",
      "/var/folders/m6/yrlm4ckj0r71yq2s7_1v54kh0000gn/T/ipykernel_85166/583896589.py:5: PerformanceWarning: DataFrame is highly fragmented.  This is usually the result of calling `frame.insert` many times, which has poor performance.  Consider joining all columns at once using pd.concat(axis=1) instead. To get a de-fragmented frame, use `newframe = frame.copy()`\n",
      "  X_val[col] = 0\n",
      "/var/folders/m6/yrlm4ckj0r71yq2s7_1v54kh0000gn/T/ipykernel_85166/583896589.py:5: PerformanceWarning: DataFrame is highly fragmented.  This is usually the result of calling `frame.insert` many times, which has poor performance.  Consider joining all columns at once using pd.concat(axis=1) instead. To get a de-fragmented frame, use `newframe = frame.copy()`\n",
      "  X_val[col] = 0\n",
      "/var/folders/m6/yrlm4ckj0r71yq2s7_1v54kh0000gn/T/ipykernel_85166/583896589.py:5: PerformanceWarning: DataFrame is highly fragmented.  This is usually the result of calling `frame.insert` many times, which has poor performance.  Consider joining all columns at once using pd.concat(axis=1) instead. To get a de-fragmented frame, use `newframe = frame.copy()`\n",
      "  X_val[col] = 0\n",
      "/var/folders/m6/yrlm4ckj0r71yq2s7_1v54kh0000gn/T/ipykernel_85166/583896589.py:5: PerformanceWarning: DataFrame is highly fragmented.  This is usually the result of calling `frame.insert` many times, which has poor performance.  Consider joining all columns at once using pd.concat(axis=1) instead. To get a de-fragmented frame, use `newframe = frame.copy()`\n",
      "  X_val[col] = 0\n",
      "/var/folders/m6/yrlm4ckj0r71yq2s7_1v54kh0000gn/T/ipykernel_85166/583896589.py:5: PerformanceWarning: DataFrame is highly fragmented.  This is usually the result of calling `frame.insert` many times, which has poor performance.  Consider joining all columns at once using pd.concat(axis=1) instead. To get a de-fragmented frame, use `newframe = frame.copy()`\n",
      "  X_val[col] = 0\n",
      "/var/folders/m6/yrlm4ckj0r71yq2s7_1v54kh0000gn/T/ipykernel_85166/583896589.py:5: PerformanceWarning: DataFrame is highly fragmented.  This is usually the result of calling `frame.insert` many times, which has poor performance.  Consider joining all columns at once using pd.concat(axis=1) instead. To get a de-fragmented frame, use `newframe = frame.copy()`\n",
      "  X_val[col] = 0\n",
      "/var/folders/m6/yrlm4ckj0r71yq2s7_1v54kh0000gn/T/ipykernel_85166/583896589.py:5: PerformanceWarning: DataFrame is highly fragmented.  This is usually the result of calling `frame.insert` many times, which has poor performance.  Consider joining all columns at once using pd.concat(axis=1) instead. To get a de-fragmented frame, use `newframe = frame.copy()`\n",
      "  X_val[col] = 0\n",
      "/var/folders/m6/yrlm4ckj0r71yq2s7_1v54kh0000gn/T/ipykernel_85166/583896589.py:5: PerformanceWarning: DataFrame is highly fragmented.  This is usually the result of calling `frame.insert` many times, which has poor performance.  Consider joining all columns at once using pd.concat(axis=1) instead. To get a de-fragmented frame, use `newframe = frame.copy()`\n",
      "  X_val[col] = 0\n",
      "/var/folders/m6/yrlm4ckj0r71yq2s7_1v54kh0000gn/T/ipykernel_85166/583896589.py:5: PerformanceWarning: DataFrame is highly fragmented.  This is usually the result of calling `frame.insert` many times, which has poor performance.  Consider joining all columns at once using pd.concat(axis=1) instead. To get a de-fragmented frame, use `newframe = frame.copy()`\n",
      "  X_val[col] = 0\n",
      "/var/folders/m6/yrlm4ckj0r71yq2s7_1v54kh0000gn/T/ipykernel_85166/583896589.py:5: PerformanceWarning: DataFrame is highly fragmented.  This is usually the result of calling `frame.insert` many times, which has poor performance.  Consider joining all columns at once using pd.concat(axis=1) instead. To get a de-fragmented frame, use `newframe = frame.copy()`\n",
      "  X_val[col] = 0\n",
      "/var/folders/m6/yrlm4ckj0r71yq2s7_1v54kh0000gn/T/ipykernel_85166/583896589.py:5: PerformanceWarning: DataFrame is highly fragmented.  This is usually the result of calling `frame.insert` many times, which has poor performance.  Consider joining all columns at once using pd.concat(axis=1) instead. To get a de-fragmented frame, use `newframe = frame.copy()`\n",
      "  X_val[col] = 0\n",
      "/var/folders/m6/yrlm4ckj0r71yq2s7_1v54kh0000gn/T/ipykernel_85166/583896589.py:5: PerformanceWarning: DataFrame is highly fragmented.  This is usually the result of calling `frame.insert` many times, which has poor performance.  Consider joining all columns at once using pd.concat(axis=1) instead. To get a de-fragmented frame, use `newframe = frame.copy()`\n",
      "  X_val[col] = 0\n",
      "/var/folders/m6/yrlm4ckj0r71yq2s7_1v54kh0000gn/T/ipykernel_85166/583896589.py:5: PerformanceWarning: DataFrame is highly fragmented.  This is usually the result of calling `frame.insert` many times, which has poor performance.  Consider joining all columns at once using pd.concat(axis=1) instead. To get a de-fragmented frame, use `newframe = frame.copy()`\n",
      "  X_val[col] = 0\n",
      "/var/folders/m6/yrlm4ckj0r71yq2s7_1v54kh0000gn/T/ipykernel_85166/583896589.py:5: PerformanceWarning: DataFrame is highly fragmented.  This is usually the result of calling `frame.insert` many times, which has poor performance.  Consider joining all columns at once using pd.concat(axis=1) instead. To get a de-fragmented frame, use `newframe = frame.copy()`\n",
      "  X_val[col] = 0\n",
      "/var/folders/m6/yrlm4ckj0r71yq2s7_1v54kh0000gn/T/ipykernel_85166/583896589.py:5: PerformanceWarning: DataFrame is highly fragmented.  This is usually the result of calling `frame.insert` many times, which has poor performance.  Consider joining all columns at once using pd.concat(axis=1) instead. To get a de-fragmented frame, use `newframe = frame.copy()`\n",
      "  X_val[col] = 0\n",
      "/var/folders/m6/yrlm4ckj0r71yq2s7_1v54kh0000gn/T/ipykernel_85166/583896589.py:5: PerformanceWarning: DataFrame is highly fragmented.  This is usually the result of calling `frame.insert` many times, which has poor performance.  Consider joining all columns at once using pd.concat(axis=1) instead. To get a de-fragmented frame, use `newframe = frame.copy()`\n",
      "  X_val[col] = 0\n",
      "/var/folders/m6/yrlm4ckj0r71yq2s7_1v54kh0000gn/T/ipykernel_85166/583896589.py:5: PerformanceWarning: DataFrame is highly fragmented.  This is usually the result of calling `frame.insert` many times, which has poor performance.  Consider joining all columns at once using pd.concat(axis=1) instead. To get a de-fragmented frame, use `newframe = frame.copy()`\n",
      "  X_val[col] = 0\n",
      "/var/folders/m6/yrlm4ckj0r71yq2s7_1v54kh0000gn/T/ipykernel_85166/583896589.py:5: PerformanceWarning: DataFrame is highly fragmented.  This is usually the result of calling `frame.insert` many times, which has poor performance.  Consider joining all columns at once using pd.concat(axis=1) instead. To get a de-fragmented frame, use `newframe = frame.copy()`\n",
      "  X_val[col] = 0\n",
      "/var/folders/m6/yrlm4ckj0r71yq2s7_1v54kh0000gn/T/ipykernel_85166/583896589.py:5: PerformanceWarning: DataFrame is highly fragmented.  This is usually the result of calling `frame.insert` many times, which has poor performance.  Consider joining all columns at once using pd.concat(axis=1) instead. To get a de-fragmented frame, use `newframe = frame.copy()`\n",
      "  X_val[col] = 0\n",
      "/var/folders/m6/yrlm4ckj0r71yq2s7_1v54kh0000gn/T/ipykernel_85166/583896589.py:5: PerformanceWarning: DataFrame is highly fragmented.  This is usually the result of calling `frame.insert` many times, which has poor performance.  Consider joining all columns at once using pd.concat(axis=1) instead. To get a de-fragmented frame, use `newframe = frame.copy()`\n",
      "  X_val[col] = 0\n",
      "/var/folders/m6/yrlm4ckj0r71yq2s7_1v54kh0000gn/T/ipykernel_85166/583896589.py:5: PerformanceWarning: DataFrame is highly fragmented.  This is usually the result of calling `frame.insert` many times, which has poor performance.  Consider joining all columns at once using pd.concat(axis=1) instead. To get a de-fragmented frame, use `newframe = frame.copy()`\n",
      "  X_val[col] = 0\n",
      "/var/folders/m6/yrlm4ckj0r71yq2s7_1v54kh0000gn/T/ipykernel_85166/583896589.py:5: PerformanceWarning: DataFrame is highly fragmented.  This is usually the result of calling `frame.insert` many times, which has poor performance.  Consider joining all columns at once using pd.concat(axis=1) instead. To get a de-fragmented frame, use `newframe = frame.copy()`\n",
      "  X_val[col] = 0\n",
      "/var/folders/m6/yrlm4ckj0r71yq2s7_1v54kh0000gn/T/ipykernel_85166/583896589.py:5: PerformanceWarning: DataFrame is highly fragmented.  This is usually the result of calling `frame.insert` many times, which has poor performance.  Consider joining all columns at once using pd.concat(axis=1) instead. To get a de-fragmented frame, use `newframe = frame.copy()`\n",
      "  X_val[col] = 0\n",
      "/var/folders/m6/yrlm4ckj0r71yq2s7_1v54kh0000gn/T/ipykernel_85166/583896589.py:5: PerformanceWarning: DataFrame is highly fragmented.  This is usually the result of calling `frame.insert` many times, which has poor performance.  Consider joining all columns at once using pd.concat(axis=1) instead. To get a de-fragmented frame, use `newframe = frame.copy()`\n",
      "  X_val[col] = 0\n",
      "/var/folders/m6/yrlm4ckj0r71yq2s7_1v54kh0000gn/T/ipykernel_85166/583896589.py:5: PerformanceWarning: DataFrame is highly fragmented.  This is usually the result of calling `frame.insert` many times, which has poor performance.  Consider joining all columns at once using pd.concat(axis=1) instead. To get a de-fragmented frame, use `newframe = frame.copy()`\n",
      "  X_val[col] = 0\n",
      "/var/folders/m6/yrlm4ckj0r71yq2s7_1v54kh0000gn/T/ipykernel_85166/583896589.py:5: PerformanceWarning: DataFrame is highly fragmented.  This is usually the result of calling `frame.insert` many times, which has poor performance.  Consider joining all columns at once using pd.concat(axis=1) instead. To get a de-fragmented frame, use `newframe = frame.copy()`\n",
      "  X_val[col] = 0\n",
      "/var/folders/m6/yrlm4ckj0r71yq2s7_1v54kh0000gn/T/ipykernel_85166/583896589.py:5: PerformanceWarning: DataFrame is highly fragmented.  This is usually the result of calling `frame.insert` many times, which has poor performance.  Consider joining all columns at once using pd.concat(axis=1) instead. To get a de-fragmented frame, use `newframe = frame.copy()`\n",
      "  X_val[col] = 0\n",
      "/var/folders/m6/yrlm4ckj0r71yq2s7_1v54kh0000gn/T/ipykernel_85166/583896589.py:5: PerformanceWarning: DataFrame is highly fragmented.  This is usually the result of calling `frame.insert` many times, which has poor performance.  Consider joining all columns at once using pd.concat(axis=1) instead. To get a de-fragmented frame, use `newframe = frame.copy()`\n",
      "  X_val[col] = 0\n",
      "/var/folders/m6/yrlm4ckj0r71yq2s7_1v54kh0000gn/T/ipykernel_85166/583896589.py:5: PerformanceWarning: DataFrame is highly fragmented.  This is usually the result of calling `frame.insert` many times, which has poor performance.  Consider joining all columns at once using pd.concat(axis=1) instead. To get a de-fragmented frame, use `newframe = frame.copy()`\n",
      "  X_val[col] = 0\n"
     ]
    },
    {
     "name": "stdout",
     "output_type": "stream",
     "text": [
      "done validation\n"
     ]
    },
    {
     "name": "stderr",
     "output_type": "stream",
     "text": [
      "/var/folders/m6/yrlm4ckj0r71yq2s7_1v54kh0000gn/T/ipykernel_85166/583896589.py:9: PerformanceWarning: DataFrame is highly fragmented.  This is usually the result of calling `frame.insert` many times, which has poor performance.  Consider joining all columns at once using pd.concat(axis=1) instead. To get a de-fragmented frame, use `newframe = frame.copy()`\n",
      "  ctr_test[col] = 0\n",
      "/var/folders/m6/yrlm4ckj0r71yq2s7_1v54kh0000gn/T/ipykernel_85166/583896589.py:9: PerformanceWarning: DataFrame is highly fragmented.  This is usually the result of calling `frame.insert` many times, which has poor performance.  Consider joining all columns at once using pd.concat(axis=1) instead. To get a de-fragmented frame, use `newframe = frame.copy()`\n",
      "  ctr_test[col] = 0\n",
      "/var/folders/m6/yrlm4ckj0r71yq2s7_1v54kh0000gn/T/ipykernel_85166/583896589.py:9: PerformanceWarning: DataFrame is highly fragmented.  This is usually the result of calling `frame.insert` many times, which has poor performance.  Consider joining all columns at once using pd.concat(axis=1) instead. To get a de-fragmented frame, use `newframe = frame.copy()`\n",
      "  ctr_test[col] = 0\n",
      "/var/folders/m6/yrlm4ckj0r71yq2s7_1v54kh0000gn/T/ipykernel_85166/583896589.py:9: PerformanceWarning: DataFrame is highly fragmented.  This is usually the result of calling `frame.insert` many times, which has poor performance.  Consider joining all columns at once using pd.concat(axis=1) instead. To get a de-fragmented frame, use `newframe = frame.copy()`\n",
      "  ctr_test[col] = 0\n",
      "/var/folders/m6/yrlm4ckj0r71yq2s7_1v54kh0000gn/T/ipykernel_85166/583896589.py:9: PerformanceWarning: DataFrame is highly fragmented.  This is usually the result of calling `frame.insert` many times, which has poor performance.  Consider joining all columns at once using pd.concat(axis=1) instead. To get a de-fragmented frame, use `newframe = frame.copy()`\n",
      "  ctr_test[col] = 0\n",
      "/var/folders/m6/yrlm4ckj0r71yq2s7_1v54kh0000gn/T/ipykernel_85166/583896589.py:9: PerformanceWarning: DataFrame is highly fragmented.  This is usually the result of calling `frame.insert` many times, which has poor performance.  Consider joining all columns at once using pd.concat(axis=1) instead. To get a de-fragmented frame, use `newframe = frame.copy()`\n",
      "  ctr_test[col] = 0\n",
      "/var/folders/m6/yrlm4ckj0r71yq2s7_1v54kh0000gn/T/ipykernel_85166/583896589.py:9: PerformanceWarning: DataFrame is highly fragmented.  This is usually the result of calling `frame.insert` many times, which has poor performance.  Consider joining all columns at once using pd.concat(axis=1) instead. To get a de-fragmented frame, use `newframe = frame.copy()`\n",
      "  ctr_test[col] = 0\n",
      "/var/folders/m6/yrlm4ckj0r71yq2s7_1v54kh0000gn/T/ipykernel_85166/583896589.py:9: PerformanceWarning: DataFrame is highly fragmented.  This is usually the result of calling `frame.insert` many times, which has poor performance.  Consider joining all columns at once using pd.concat(axis=1) instead. To get a de-fragmented frame, use `newframe = frame.copy()`\n",
      "  ctr_test[col] = 0\n",
      "/var/folders/m6/yrlm4ckj0r71yq2s7_1v54kh0000gn/T/ipykernel_85166/583896589.py:9: PerformanceWarning: DataFrame is highly fragmented.  This is usually the result of calling `frame.insert` many times, which has poor performance.  Consider joining all columns at once using pd.concat(axis=1) instead. To get a de-fragmented frame, use `newframe = frame.copy()`\n",
      "  ctr_test[col] = 0\n",
      "/var/folders/m6/yrlm4ckj0r71yq2s7_1v54kh0000gn/T/ipykernel_85166/583896589.py:9: PerformanceWarning: DataFrame is highly fragmented.  This is usually the result of calling `frame.insert` many times, which has poor performance.  Consider joining all columns at once using pd.concat(axis=1) instead. To get a de-fragmented frame, use `newframe = frame.copy()`\n",
      "  ctr_test[col] = 0\n",
      "/var/folders/m6/yrlm4ckj0r71yq2s7_1v54kh0000gn/T/ipykernel_85166/583896589.py:9: PerformanceWarning: DataFrame is highly fragmented.  This is usually the result of calling `frame.insert` many times, which has poor performance.  Consider joining all columns at once using pd.concat(axis=1) instead. To get a de-fragmented frame, use `newframe = frame.copy()`\n",
      "  ctr_test[col] = 0\n",
      "/var/folders/m6/yrlm4ckj0r71yq2s7_1v54kh0000gn/T/ipykernel_85166/583896589.py:9: PerformanceWarning: DataFrame is highly fragmented.  This is usually the result of calling `frame.insert` many times, which has poor performance.  Consider joining all columns at once using pd.concat(axis=1) instead. To get a de-fragmented frame, use `newframe = frame.copy()`\n",
      "  ctr_test[col] = 0\n",
      "/var/folders/m6/yrlm4ckj0r71yq2s7_1v54kh0000gn/T/ipykernel_85166/583896589.py:9: PerformanceWarning: DataFrame is highly fragmented.  This is usually the result of calling `frame.insert` many times, which has poor performance.  Consider joining all columns at once using pd.concat(axis=1) instead. To get a de-fragmented frame, use `newframe = frame.copy()`\n",
      "  ctr_test[col] = 0\n",
      "/var/folders/m6/yrlm4ckj0r71yq2s7_1v54kh0000gn/T/ipykernel_85166/583896589.py:9: PerformanceWarning: DataFrame is highly fragmented.  This is usually the result of calling `frame.insert` many times, which has poor performance.  Consider joining all columns at once using pd.concat(axis=1) instead. To get a de-fragmented frame, use `newframe = frame.copy()`\n",
      "  ctr_test[col] = 0\n",
      "/var/folders/m6/yrlm4ckj0r71yq2s7_1v54kh0000gn/T/ipykernel_85166/583896589.py:9: PerformanceWarning: DataFrame is highly fragmented.  This is usually the result of calling `frame.insert` many times, which has poor performance.  Consider joining all columns at once using pd.concat(axis=1) instead. To get a de-fragmented frame, use `newframe = frame.copy()`\n",
      "  ctr_test[col] = 0\n",
      "/var/folders/m6/yrlm4ckj0r71yq2s7_1v54kh0000gn/T/ipykernel_85166/583896589.py:9: PerformanceWarning: DataFrame is highly fragmented.  This is usually the result of calling `frame.insert` many times, which has poor performance.  Consider joining all columns at once using pd.concat(axis=1) instead. To get a de-fragmented frame, use `newframe = frame.copy()`\n",
      "  ctr_test[col] = 0\n",
      "/var/folders/m6/yrlm4ckj0r71yq2s7_1v54kh0000gn/T/ipykernel_85166/583896589.py:9: PerformanceWarning: DataFrame is highly fragmented.  This is usually the result of calling `frame.insert` many times, which has poor performance.  Consider joining all columns at once using pd.concat(axis=1) instead. To get a de-fragmented frame, use `newframe = frame.copy()`\n",
      "  ctr_test[col] = 0\n",
      "/var/folders/m6/yrlm4ckj0r71yq2s7_1v54kh0000gn/T/ipykernel_85166/583896589.py:9: PerformanceWarning: DataFrame is highly fragmented.  This is usually the result of calling `frame.insert` many times, which has poor performance.  Consider joining all columns at once using pd.concat(axis=1) instead. To get a de-fragmented frame, use `newframe = frame.copy()`\n",
      "  ctr_test[col] = 0\n",
      "/var/folders/m6/yrlm4ckj0r71yq2s7_1v54kh0000gn/T/ipykernel_85166/583896589.py:9: PerformanceWarning: DataFrame is highly fragmented.  This is usually the result of calling `frame.insert` many times, which has poor performance.  Consider joining all columns at once using pd.concat(axis=1) instead. To get a de-fragmented frame, use `newframe = frame.copy()`\n",
      "  ctr_test[col] = 0\n",
      "/var/folders/m6/yrlm4ckj0r71yq2s7_1v54kh0000gn/T/ipykernel_85166/583896589.py:9: PerformanceWarning: DataFrame is highly fragmented.  This is usually the result of calling `frame.insert` many times, which has poor performance.  Consider joining all columns at once using pd.concat(axis=1) instead. To get a de-fragmented frame, use `newframe = frame.copy()`\n",
      "  ctr_test[col] = 0\n",
      "/var/folders/m6/yrlm4ckj0r71yq2s7_1v54kh0000gn/T/ipykernel_85166/583896589.py:9: PerformanceWarning: DataFrame is highly fragmented.  This is usually the result of calling `frame.insert` many times, which has poor performance.  Consider joining all columns at once using pd.concat(axis=1) instead. To get a de-fragmented frame, use `newframe = frame.copy()`\n",
      "  ctr_test[col] = 0\n",
      "/var/folders/m6/yrlm4ckj0r71yq2s7_1v54kh0000gn/T/ipykernel_85166/583896589.py:9: PerformanceWarning: DataFrame is highly fragmented.  This is usually the result of calling `frame.insert` many times, which has poor performance.  Consider joining all columns at once using pd.concat(axis=1) instead. To get a de-fragmented frame, use `newframe = frame.copy()`\n",
      "  ctr_test[col] = 0\n",
      "/var/folders/m6/yrlm4ckj0r71yq2s7_1v54kh0000gn/T/ipykernel_85166/583896589.py:9: PerformanceWarning: DataFrame is highly fragmented.  This is usually the result of calling `frame.insert` many times, which has poor performance.  Consider joining all columns at once using pd.concat(axis=1) instead. To get a de-fragmented frame, use `newframe = frame.copy()`\n",
      "  ctr_test[col] = 0\n",
      "/var/folders/m6/yrlm4ckj0r71yq2s7_1v54kh0000gn/T/ipykernel_85166/583896589.py:9: PerformanceWarning: DataFrame is highly fragmented.  This is usually the result of calling `frame.insert` many times, which has poor performance.  Consider joining all columns at once using pd.concat(axis=1) instead. To get a de-fragmented frame, use `newframe = frame.copy()`\n",
      "  ctr_test[col] = 0\n",
      "/var/folders/m6/yrlm4ckj0r71yq2s7_1v54kh0000gn/T/ipykernel_85166/583896589.py:9: PerformanceWarning: DataFrame is highly fragmented.  This is usually the result of calling `frame.insert` many times, which has poor performance.  Consider joining all columns at once using pd.concat(axis=1) instead. To get a de-fragmented frame, use `newframe = frame.copy()`\n",
      "  ctr_test[col] = 0\n",
      "/var/folders/m6/yrlm4ckj0r71yq2s7_1v54kh0000gn/T/ipykernel_85166/583896589.py:9: PerformanceWarning: DataFrame is highly fragmented.  This is usually the result of calling `frame.insert` many times, which has poor performance.  Consider joining all columns at once using pd.concat(axis=1) instead. To get a de-fragmented frame, use `newframe = frame.copy()`\n",
      "  ctr_test[col] = 0\n",
      "/var/folders/m6/yrlm4ckj0r71yq2s7_1v54kh0000gn/T/ipykernel_85166/583896589.py:9: PerformanceWarning: DataFrame is highly fragmented.  This is usually the result of calling `frame.insert` many times, which has poor performance.  Consider joining all columns at once using pd.concat(axis=1) instead. To get a de-fragmented frame, use `newframe = frame.copy()`\n",
      "  ctr_test[col] = 0\n",
      "/var/folders/m6/yrlm4ckj0r71yq2s7_1v54kh0000gn/T/ipykernel_85166/583896589.py:9: PerformanceWarning: DataFrame is highly fragmented.  This is usually the result of calling `frame.insert` many times, which has poor performance.  Consider joining all columns at once using pd.concat(axis=1) instead. To get a de-fragmented frame, use `newframe = frame.copy()`\n",
      "  ctr_test[col] = 0\n",
      "/var/folders/m6/yrlm4ckj0r71yq2s7_1v54kh0000gn/T/ipykernel_85166/583896589.py:9: PerformanceWarning: DataFrame is highly fragmented.  This is usually the result of calling `frame.insert` many times, which has poor performance.  Consider joining all columns at once using pd.concat(axis=1) instead. To get a de-fragmented frame, use `newframe = frame.copy()`\n",
      "  ctr_test[col] = 0\n",
      "/var/folders/m6/yrlm4ckj0r71yq2s7_1v54kh0000gn/T/ipykernel_85166/583896589.py:9: PerformanceWarning: DataFrame is highly fragmented.  This is usually the result of calling `frame.insert` many times, which has poor performance.  Consider joining all columns at once using pd.concat(axis=1) instead. To get a de-fragmented frame, use `newframe = frame.copy()`\n",
      "  ctr_test[col] = 0\n",
      "/var/folders/m6/yrlm4ckj0r71yq2s7_1v54kh0000gn/T/ipykernel_85166/583896589.py:9: PerformanceWarning: DataFrame is highly fragmented.  This is usually the result of calling `frame.insert` many times, which has poor performance.  Consider joining all columns at once using pd.concat(axis=1) instead. To get a de-fragmented frame, use `newframe = frame.copy()`\n",
      "  ctr_test[col] = 0\n",
      "/var/folders/m6/yrlm4ckj0r71yq2s7_1v54kh0000gn/T/ipykernel_85166/583896589.py:9: PerformanceWarning: DataFrame is highly fragmented.  This is usually the result of calling `frame.insert` many times, which has poor performance.  Consider joining all columns at once using pd.concat(axis=1) instead. To get a de-fragmented frame, use `newframe = frame.copy()`\n",
      "  ctr_test[col] = 0\n",
      "/var/folders/m6/yrlm4ckj0r71yq2s7_1v54kh0000gn/T/ipykernel_85166/583896589.py:9: PerformanceWarning: DataFrame is highly fragmented.  This is usually the result of calling `frame.insert` many times, which has poor performance.  Consider joining all columns at once using pd.concat(axis=1) instead. To get a de-fragmented frame, use `newframe = frame.copy()`\n",
      "  ctr_test[col] = 0\n",
      "/var/folders/m6/yrlm4ckj0r71yq2s7_1v54kh0000gn/T/ipykernel_85166/583896589.py:9: PerformanceWarning: DataFrame is highly fragmented.  This is usually the result of calling `frame.insert` many times, which has poor performance.  Consider joining all columns at once using pd.concat(axis=1) instead. To get a de-fragmented frame, use `newframe = frame.copy()`\n",
      "  ctr_test[col] = 0\n",
      "/var/folders/m6/yrlm4ckj0r71yq2s7_1v54kh0000gn/T/ipykernel_85166/583896589.py:9: PerformanceWarning: DataFrame is highly fragmented.  This is usually the result of calling `frame.insert` many times, which has poor performance.  Consider joining all columns at once using pd.concat(axis=1) instead. To get a de-fragmented frame, use `newframe = frame.copy()`\n",
      "  ctr_test[col] = 0\n"
     ]
    },
    {
     "name": "stdout",
     "output_type": "stream",
     "text": [
      "done test\n",
      "(1865549, 136)\n",
      "(466388, 136)\n",
      "(1139639, 136)\n",
      "action_list_0                int64\n",
      "action_list_1                int64\n",
      "action_list_2                int64\n",
      "auction_bidfloor           float64\n",
      "auction_list_0               int64\n",
      "                            ...   \n",
      "device_id_type_6324b367      int64\n",
      "device_id_type_Other         int64\n",
      "device_id_type_c1d12c8e      int64\n",
      "has_video_False              int64\n",
      "has_video_True               int64\n",
      "Length: 136, dtype: object\n",
      "action_list_0                int64\n",
      "action_list_1                int64\n",
      "action_list_2                int64\n",
      "auction_bidfloor           float64\n",
      "auction_list_0               int64\n",
      "                            ...   \n",
      "device_id_type_6324b367      int64\n",
      "device_id_type_Other         int64\n",
      "device_id_type_c1d12c8e      int64\n",
      "has_video_False              int64\n",
      "has_video_True               int64\n",
      "Length: 136, dtype: object\n"
     ]
    }
   ],
   "source": [
    "missing_columns_validation = pd_ohe.columns.difference(X_val.columns)\n",
    "missing_columns_test = pd_ohe.columns.difference(ctr_test.columns)\n",
    "\n",
    "for col in missing_columns_validation:\n",
    "    X_val[col] = 0\n",
    "print(\"done validation\")\n",
    "\n",
    "for col in missing_columns_test:\n",
    "    ctr_test[col] = 0\n",
    "print(\"done test\")\n",
    "\n",
    "label_column = 'label'\n",
    "common_columns_val = X_val.columns.intersection(pd_ohe.columns)\n",
    "common_columns_test = ctr_test.columns.intersection(pd_ohe.columns.drop(label_column, errors='ignore'))\n",
    "\n",
    "X_val = X_val[common_columns_val]\n",
    "ctr_test = ctr_test[common_columns_test]\n",
    "\n",
    "if label_column in ctr_test.columns:\n",
    "    ctr_test = ctr_test.drop(columns=[label_column])\n",
    "\n",
    "print(pd_ohe.shape)\n",
    "print(X_val.shape)\n",
    "print(ctr_test.shape)\n",
    "\n",
    "print(pd_ohe.dtypes)\n",
    "print(ctr_test.dtypes)\n"
   ]
  },
  {
   "cell_type": "code",
   "execution_count": 9,
   "metadata": {},
   "outputs": [
    {
     "name": "stdout",
     "output_type": "stream",
     "text": [
      "Iteración 1 de 50\n"
     ]
    },
    {
     "name": "stderr",
     "output_type": "stream",
     "text": [
      "/opt/anaconda3/envs/TD6/lib/python3.12/site-packages/xgboost/core.py:158: UserWarning: [20:23:19] WARNING: /Users/runner/work/xgboost/xgboost/src/context.cc:196: XGBoost is not compiled with CUDA support.\n",
      "  warnings.warn(smsg, UserWarning)\n"
     ]
    },
    {
     "name": "stdout",
     "output_type": "stream",
     "text": [
      "Mejor valor de ROC-AUC encontrado: 0.7926394200611644\n",
      "Iteración 2 de 50\n"
     ]
    },
    {
     "name": "stderr",
     "output_type": "stream",
     "text": [
      "/opt/anaconda3/envs/TD6/lib/python3.12/site-packages/xgboost/core.py:158: UserWarning: [20:23:49] WARNING: /Users/runner/work/xgboost/xgboost/src/context.cc:196: XGBoost is not compiled with CUDA support.\n",
      "  warnings.warn(smsg, UserWarning)\n"
     ]
    },
    {
     "name": "stdout",
     "output_type": "stream",
     "text": [
      "Mejor valor de ROC-AUC encontrado: 0.8044740385186844\n",
      "Iteración 3 de 50\n"
     ]
    },
    {
     "name": "stderr",
     "output_type": "stream",
     "text": [
      "/opt/anaconda3/envs/TD6/lib/python3.12/site-packages/xgboost/core.py:158: UserWarning: [20:26:19] WARNING: /Users/runner/work/xgboost/xgboost/src/context.cc:196: XGBoost is not compiled with CUDA support.\n",
      "  warnings.warn(smsg, UserWarning)\n"
     ]
    },
    {
     "name": "stdout",
     "output_type": "stream",
     "text": [
      "Iteración 4 de 50\n"
     ]
    },
    {
     "name": "stderr",
     "output_type": "stream",
     "text": [
      "/opt/anaconda3/envs/TD6/lib/python3.12/site-packages/xgboost/core.py:158: UserWarning: [20:26:44] WARNING: /Users/runner/work/xgboost/xgboost/src/context.cc:196: XGBoost is not compiled with CUDA support.\n",
      "  warnings.warn(smsg, UserWarning)\n"
     ]
    },
    {
     "name": "stdout",
     "output_type": "stream",
     "text": [
      "Mejor valor de ROC-AUC encontrado: 0.8052383237230496\n",
      "Iteración 5 de 50\n"
     ]
    },
    {
     "name": "stderr",
     "output_type": "stream",
     "text": [
      "/opt/anaconda3/envs/TD6/lib/python3.12/site-packages/xgboost/core.py:158: UserWarning: [20:30:00] WARNING: /Users/runner/work/xgboost/xgboost/src/context.cc:196: XGBoost is not compiled with CUDA support.\n",
      "  warnings.warn(smsg, UserWarning)\n"
     ]
    },
    {
     "name": "stdout",
     "output_type": "stream",
     "text": [
      "Iteración 6 de 50\n"
     ]
    },
    {
     "name": "stderr",
     "output_type": "stream",
     "text": [
      "/opt/anaconda3/envs/TD6/lib/python3.12/site-packages/xgboost/core.py:158: UserWarning: [20:32:54] WARNING: /Users/runner/work/xgboost/xgboost/src/context.cc:196: XGBoost is not compiled with CUDA support.\n",
      "  warnings.warn(smsg, UserWarning)\n"
     ]
    },
    {
     "name": "stdout",
     "output_type": "stream",
     "text": [
      "Iteración 7 de 50\n"
     ]
    },
    {
     "name": "stderr",
     "output_type": "stream",
     "text": [
      "/opt/anaconda3/envs/TD6/lib/python3.12/site-packages/xgboost/core.py:158: UserWarning: [20:34:57] WARNING: /Users/runner/work/xgboost/xgboost/src/context.cc:196: XGBoost is not compiled with CUDA support.\n",
      "  warnings.warn(smsg, UserWarning)\n"
     ]
    },
    {
     "name": "stdout",
     "output_type": "stream",
     "text": [
      "Iteración 8 de 50\n"
     ]
    },
    {
     "name": "stderr",
     "output_type": "stream",
     "text": [
      "/opt/anaconda3/envs/TD6/lib/python3.12/site-packages/xgboost/core.py:158: UserWarning: [20:36:00] WARNING: /Users/runner/work/xgboost/xgboost/src/context.cc:196: XGBoost is not compiled with CUDA support.\n",
      "  warnings.warn(smsg, UserWarning)\n"
     ]
    },
    {
     "name": "stdout",
     "output_type": "stream",
     "text": [
      "Iteración 9 de 50\n"
     ]
    },
    {
     "name": "stderr",
     "output_type": "stream",
     "text": [
      "/opt/anaconda3/envs/TD6/lib/python3.12/site-packages/xgboost/core.py:158: UserWarning: [20:37:56] WARNING: /Users/runner/work/xgboost/xgboost/src/context.cc:196: XGBoost is not compiled with CUDA support.\n",
      "  warnings.warn(smsg, UserWarning)\n"
     ]
    },
    {
     "name": "stdout",
     "output_type": "stream",
     "text": [
      "Iteración 10 de 50\n"
     ]
    },
    {
     "name": "stderr",
     "output_type": "stream",
     "text": [
      "/opt/anaconda3/envs/TD6/lib/python3.12/site-packages/xgboost/core.py:158: UserWarning: [20:39:31] WARNING: /Users/runner/work/xgboost/xgboost/src/context.cc:196: XGBoost is not compiled with CUDA support.\n",
      "  warnings.warn(smsg, UserWarning)\n"
     ]
    },
    {
     "name": "stdout",
     "output_type": "stream",
     "text": [
      "Iteración 11 de 50\n"
     ]
    },
    {
     "name": "stderr",
     "output_type": "stream",
     "text": [
      "/opt/anaconda3/envs/TD6/lib/python3.12/site-packages/xgboost/core.py:158: UserWarning: [20:41:29] WARNING: /Users/runner/work/xgboost/xgboost/src/context.cc:196: XGBoost is not compiled with CUDA support.\n",
      "  warnings.warn(smsg, UserWarning)\n"
     ]
    },
    {
     "name": "stdout",
     "output_type": "stream",
     "text": [
      "Iteración 12 de 50\n"
     ]
    },
    {
     "name": "stderr",
     "output_type": "stream",
     "text": [
      "/opt/anaconda3/envs/TD6/lib/python3.12/site-packages/xgboost/core.py:158: UserWarning: [20:44:05] WARNING: /Users/runner/work/xgboost/xgboost/src/context.cc:196: XGBoost is not compiled with CUDA support.\n",
      "  warnings.warn(smsg, UserWarning)\n"
     ]
    },
    {
     "name": "stdout",
     "output_type": "stream",
     "text": [
      "Iteración 13 de 50\n"
     ]
    },
    {
     "name": "stderr",
     "output_type": "stream",
     "text": [
      "/opt/anaconda3/envs/TD6/lib/python3.12/site-packages/xgboost/core.py:158: UserWarning: [20:44:47] WARNING: /Users/runner/work/xgboost/xgboost/src/context.cc:196: XGBoost is not compiled with CUDA support.\n",
      "  warnings.warn(smsg, UserWarning)\n"
     ]
    },
    {
     "name": "stdout",
     "output_type": "stream",
     "text": [
      "Iteración 14 de 50\n"
     ]
    },
    {
     "name": "stderr",
     "output_type": "stream",
     "text": [
      "/opt/anaconda3/envs/TD6/lib/python3.12/site-packages/xgboost/core.py:158: UserWarning: [20:48:55] WARNING: /Users/runner/work/xgboost/xgboost/src/context.cc:196: XGBoost is not compiled with CUDA support.\n",
      "  warnings.warn(smsg, UserWarning)\n"
     ]
    },
    {
     "name": "stdout",
     "output_type": "stream",
     "text": [
      "Iteración 15 de 50\n"
     ]
    },
    {
     "name": "stderr",
     "output_type": "stream",
     "text": [
      "/opt/anaconda3/envs/TD6/lib/python3.12/site-packages/xgboost/core.py:158: UserWarning: [20:49:26] WARNING: /Users/runner/work/xgboost/xgboost/src/context.cc:196: XGBoost is not compiled with CUDA support.\n",
      "  warnings.warn(smsg, UserWarning)\n"
     ]
    },
    {
     "name": "stdout",
     "output_type": "stream",
     "text": [
      "Iteración 16 de 50\n"
     ]
    },
    {
     "name": "stderr",
     "output_type": "stream",
     "text": [
      "/opt/anaconda3/envs/TD6/lib/python3.12/site-packages/xgboost/core.py:158: UserWarning: [20:51:02] WARNING: /Users/runner/work/xgboost/xgboost/src/context.cc:196: XGBoost is not compiled with CUDA support.\n",
      "  warnings.warn(smsg, UserWarning)\n"
     ]
    },
    {
     "name": "stdout",
     "output_type": "stream",
     "text": [
      "Iteración 17 de 50\n"
     ]
    },
    {
     "name": "stderr",
     "output_type": "stream",
     "text": [
      "/opt/anaconda3/envs/TD6/lib/python3.12/site-packages/xgboost/core.py:158: UserWarning: [20:54:03] WARNING: /Users/runner/work/xgboost/xgboost/src/context.cc:196: XGBoost is not compiled with CUDA support.\n",
      "  warnings.warn(smsg, UserWarning)\n"
     ]
    },
    {
     "name": "stdout",
     "output_type": "stream",
     "text": [
      "Iteración 18 de 50\n"
     ]
    },
    {
     "name": "stderr",
     "output_type": "stream",
     "text": [
      "/opt/anaconda3/envs/TD6/lib/python3.12/site-packages/xgboost/core.py:158: UserWarning: [20:55:34] WARNING: /Users/runner/work/xgboost/xgboost/src/context.cc:196: XGBoost is not compiled with CUDA support.\n",
      "  warnings.warn(smsg, UserWarning)\n"
     ]
    },
    {
     "name": "stdout",
     "output_type": "stream",
     "text": [
      "Iteración 19 de 50\n"
     ]
    },
    {
     "name": "stderr",
     "output_type": "stream",
     "text": [
      "/opt/anaconda3/envs/TD6/lib/python3.12/site-packages/xgboost/core.py:158: UserWarning: [20:59:13] WARNING: /Users/runner/work/xgboost/xgboost/src/context.cc:196: XGBoost is not compiled with CUDA support.\n",
      "  warnings.warn(smsg, UserWarning)\n"
     ]
    },
    {
     "name": "stdout",
     "output_type": "stream",
     "text": [
      "Iteración 20 de 50\n"
     ]
    },
    {
     "name": "stderr",
     "output_type": "stream",
     "text": [
      "/opt/anaconda3/envs/TD6/lib/python3.12/site-packages/xgboost/core.py:158: UserWarning: [21:00:38] WARNING: /Users/runner/work/xgboost/xgboost/src/context.cc:196: XGBoost is not compiled with CUDA support.\n",
      "  warnings.warn(smsg, UserWarning)\n"
     ]
    },
    {
     "name": "stdout",
     "output_type": "stream",
     "text": [
      "Iteración 21 de 50\n"
     ]
    },
    {
     "name": "stderr",
     "output_type": "stream",
     "text": [
      "/opt/anaconda3/envs/TD6/lib/python3.12/site-packages/xgboost/core.py:158: UserWarning: [21:02:32] WARNING: /Users/runner/work/xgboost/xgboost/src/context.cc:196: XGBoost is not compiled with CUDA support.\n",
      "  warnings.warn(smsg, UserWarning)\n"
     ]
    },
    {
     "name": "stdout",
     "output_type": "stream",
     "text": [
      "Iteración 22 de 50\n"
     ]
    },
    {
     "name": "stderr",
     "output_type": "stream",
     "text": [
      "/opt/anaconda3/envs/TD6/lib/python3.12/site-packages/xgboost/core.py:158: UserWarning: [21:03:14] WARNING: /Users/runner/work/xgboost/xgboost/src/context.cc:196: XGBoost is not compiled with CUDA support.\n",
      "  warnings.warn(smsg, UserWarning)\n"
     ]
    },
    {
     "name": "stdout",
     "output_type": "stream",
     "text": [
      "Iteración 23 de 50\n"
     ]
    },
    {
     "name": "stderr",
     "output_type": "stream",
     "text": [
      "/opt/anaconda3/envs/TD6/lib/python3.12/site-packages/xgboost/core.py:158: UserWarning: [21:06:49] WARNING: /Users/runner/work/xgboost/xgboost/src/context.cc:196: XGBoost is not compiled with CUDA support.\n",
      "  warnings.warn(smsg, UserWarning)\n"
     ]
    },
    {
     "name": "stdout",
     "output_type": "stream",
     "text": [
      "Iteración 24 de 50\n"
     ]
    },
    {
     "name": "stderr",
     "output_type": "stream",
     "text": [
      "/opt/anaconda3/envs/TD6/lib/python3.12/site-packages/xgboost/core.py:158: UserWarning: [21:10:15] WARNING: /Users/runner/work/xgboost/xgboost/src/context.cc:196: XGBoost is not compiled with CUDA support.\n",
      "  warnings.warn(smsg, UserWarning)\n"
     ]
    },
    {
     "name": "stdout",
     "output_type": "stream",
     "text": [
      "Iteración 25 de 50\n"
     ]
    },
    {
     "name": "stderr",
     "output_type": "stream",
     "text": [
      "/opt/anaconda3/envs/TD6/lib/python3.12/site-packages/xgboost/core.py:158: UserWarning: [21:16:33] WARNING: /Users/runner/work/xgboost/xgboost/src/context.cc:196: XGBoost is not compiled with CUDA support.\n",
      "  warnings.warn(smsg, UserWarning)\n"
     ]
    },
    {
     "name": "stdout",
     "output_type": "stream",
     "text": [
      "Iteración 26 de 50\n"
     ]
    },
    {
     "name": "stderr",
     "output_type": "stream",
     "text": [
      "/opt/anaconda3/envs/TD6/lib/python3.12/site-packages/xgboost/core.py:158: UserWarning: [21:21:50] WARNING: /Users/runner/work/xgboost/xgboost/src/context.cc:196: XGBoost is not compiled with CUDA support.\n",
      "  warnings.warn(smsg, UserWarning)\n"
     ]
    },
    {
     "name": "stdout",
     "output_type": "stream",
     "text": [
      "Iteración 27 de 50\n"
     ]
    },
    {
     "name": "stderr",
     "output_type": "stream",
     "text": [
      "/opt/anaconda3/envs/TD6/lib/python3.12/site-packages/xgboost/core.py:158: UserWarning: [21:24:55] WARNING: /Users/runner/work/xgboost/xgboost/src/context.cc:196: XGBoost is not compiled with CUDA support.\n",
      "  warnings.warn(smsg, UserWarning)\n"
     ]
    },
    {
     "name": "stdout",
     "output_type": "stream",
     "text": [
      "Iteración 28 de 50\n"
     ]
    },
    {
     "name": "stderr",
     "output_type": "stream",
     "text": [
      "/opt/anaconda3/envs/TD6/lib/python3.12/site-packages/xgboost/core.py:158: UserWarning: [21:26:51] WARNING: /Users/runner/work/xgboost/xgboost/src/context.cc:196: XGBoost is not compiled with CUDA support.\n",
      "  warnings.warn(smsg, UserWarning)\n"
     ]
    },
    {
     "name": "stdout",
     "output_type": "stream",
     "text": [
      "Iteración 29 de 50\n"
     ]
    },
    {
     "name": "stderr",
     "output_type": "stream",
     "text": [
      "/opt/anaconda3/envs/TD6/lib/python3.12/site-packages/xgboost/core.py:158: UserWarning: [21:27:17] WARNING: /Users/runner/work/xgboost/xgboost/src/context.cc:196: XGBoost is not compiled with CUDA support.\n",
      "  warnings.warn(smsg, UserWarning)\n"
     ]
    },
    {
     "name": "stdout",
     "output_type": "stream",
     "text": [
      "Iteración 30 de 50\n"
     ]
    },
    {
     "name": "stderr",
     "output_type": "stream",
     "text": [
      "/opt/anaconda3/envs/TD6/lib/python3.12/site-packages/xgboost/core.py:158: UserWarning: [21:29:31] WARNING: /Users/runner/work/xgboost/xgboost/src/context.cc:196: XGBoost is not compiled with CUDA support.\n",
      "  warnings.warn(smsg, UserWarning)\n"
     ]
    },
    {
     "name": "stdout",
     "output_type": "stream",
     "text": [
      "Iteración 31 de 50\n"
     ]
    },
    {
     "name": "stderr",
     "output_type": "stream",
     "text": [
      "/opt/anaconda3/envs/TD6/lib/python3.12/site-packages/xgboost/core.py:158: UserWarning: [21:33:45] WARNING: /Users/runner/work/xgboost/xgboost/src/context.cc:196: XGBoost is not compiled with CUDA support.\n",
      "  warnings.warn(smsg, UserWarning)\n"
     ]
    },
    {
     "name": "stdout",
     "output_type": "stream",
     "text": [
      "Iteración 32 de 50\n"
     ]
    },
    {
     "name": "stderr",
     "output_type": "stream",
     "text": [
      "/opt/anaconda3/envs/TD6/lib/python3.12/site-packages/xgboost/core.py:158: UserWarning: [21:36:49] WARNING: /Users/runner/work/xgboost/xgboost/src/context.cc:196: XGBoost is not compiled with CUDA support.\n",
      "  warnings.warn(smsg, UserWarning)\n"
     ]
    },
    {
     "name": "stdout",
     "output_type": "stream",
     "text": [
      "Iteración 33 de 50\n"
     ]
    },
    {
     "name": "stderr",
     "output_type": "stream",
     "text": [
      "/opt/anaconda3/envs/TD6/lib/python3.12/site-packages/xgboost/core.py:158: UserWarning: [21:38:45] WARNING: /Users/runner/work/xgboost/xgboost/src/context.cc:196: XGBoost is not compiled with CUDA support.\n",
      "  warnings.warn(smsg, UserWarning)\n"
     ]
    },
    {
     "name": "stdout",
     "output_type": "stream",
     "text": [
      "Iteración 34 de 50\n"
     ]
    },
    {
     "name": "stderr",
     "output_type": "stream",
     "text": [
      "/opt/anaconda3/envs/TD6/lib/python3.12/site-packages/xgboost/core.py:158: UserWarning: [21:41:56] WARNING: /Users/runner/work/xgboost/xgboost/src/context.cc:196: XGBoost is not compiled with CUDA support.\n",
      "  warnings.warn(smsg, UserWarning)\n"
     ]
    },
    {
     "name": "stdout",
     "output_type": "stream",
     "text": [
      "Iteración 35 de 50\n"
     ]
    },
    {
     "name": "stderr",
     "output_type": "stream",
     "text": [
      "/opt/anaconda3/envs/TD6/lib/python3.12/site-packages/xgboost/core.py:158: UserWarning: [21:43:00] WARNING: /Users/runner/work/xgboost/xgboost/src/context.cc:196: XGBoost is not compiled with CUDA support.\n",
      "  warnings.warn(smsg, UserWarning)\n"
     ]
    },
    {
     "name": "stdout",
     "output_type": "stream",
     "text": [
      "Iteración 36 de 50\n"
     ]
    },
    {
     "name": "stderr",
     "output_type": "stream",
     "text": [
      "/opt/anaconda3/envs/TD6/lib/python3.12/site-packages/xgboost/core.py:158: UserWarning: [21:44:13] WARNING: /Users/runner/work/xgboost/xgboost/src/context.cc:196: XGBoost is not compiled with CUDA support.\n",
      "  warnings.warn(smsg, UserWarning)\n"
     ]
    },
    {
     "name": "stdout",
     "output_type": "stream",
     "text": [
      "Iteración 37 de 50\n"
     ]
    },
    {
     "name": "stderr",
     "output_type": "stream",
     "text": [
      "/opt/anaconda3/envs/TD6/lib/python3.12/site-packages/xgboost/core.py:158: UserWarning: [21:44:58] WARNING: /Users/runner/work/xgboost/xgboost/src/context.cc:196: XGBoost is not compiled with CUDA support.\n",
      "  warnings.warn(smsg, UserWarning)\n"
     ]
    },
    {
     "name": "stdout",
     "output_type": "stream",
     "text": [
      "Iteración 38 de 50\n"
     ]
    },
    {
     "name": "stderr",
     "output_type": "stream",
     "text": [
      "/opt/anaconda3/envs/TD6/lib/python3.12/site-packages/xgboost/core.py:158: UserWarning: [21:46:04] WARNING: /Users/runner/work/xgboost/xgboost/src/context.cc:196: XGBoost is not compiled with CUDA support.\n",
      "  warnings.warn(smsg, UserWarning)\n"
     ]
    },
    {
     "name": "stdout",
     "output_type": "stream",
     "text": [
      "Iteración 39 de 50\n"
     ]
    },
    {
     "name": "stderr",
     "output_type": "stream",
     "text": [
      "/opt/anaconda3/envs/TD6/lib/python3.12/site-packages/xgboost/core.py:158: UserWarning: [21:47:04] WARNING: /Users/runner/work/xgboost/xgboost/src/context.cc:196: XGBoost is not compiled with CUDA support.\n",
      "  warnings.warn(smsg, UserWarning)\n"
     ]
    },
    {
     "name": "stdout",
     "output_type": "stream",
     "text": [
      "Iteración 40 de 50\n"
     ]
    },
    {
     "name": "stderr",
     "output_type": "stream",
     "text": [
      "/opt/anaconda3/envs/TD6/lib/python3.12/site-packages/xgboost/core.py:158: UserWarning: [21:50:12] WARNING: /Users/runner/work/xgboost/xgboost/src/context.cc:196: XGBoost is not compiled with CUDA support.\n",
      "  warnings.warn(smsg, UserWarning)\n"
     ]
    },
    {
     "name": "stdout",
     "output_type": "stream",
     "text": [
      "Iteración 41 de 50\n"
     ]
    },
    {
     "name": "stderr",
     "output_type": "stream",
     "text": [
      "/opt/anaconda3/envs/TD6/lib/python3.12/site-packages/xgboost/core.py:158: UserWarning: [21:51:22] WARNING: /Users/runner/work/xgboost/xgboost/src/context.cc:196: XGBoost is not compiled with CUDA support.\n",
      "  warnings.warn(smsg, UserWarning)\n"
     ]
    },
    {
     "name": "stdout",
     "output_type": "stream",
     "text": [
      "Iteración 42 de 50\n"
     ]
    },
    {
     "name": "stderr",
     "output_type": "stream",
     "text": [
      "/opt/anaconda3/envs/TD6/lib/python3.12/site-packages/xgboost/core.py:158: UserWarning: [21:54:30] WARNING: /Users/runner/work/xgboost/xgboost/src/context.cc:196: XGBoost is not compiled with CUDA support.\n",
      "  warnings.warn(smsg, UserWarning)\n"
     ]
    },
    {
     "name": "stdout",
     "output_type": "stream",
     "text": [
      "Iteración 43 de 50\n"
     ]
    },
    {
     "name": "stderr",
     "output_type": "stream",
     "text": [
      "/opt/anaconda3/envs/TD6/lib/python3.12/site-packages/xgboost/core.py:158: UserWarning: [21:56:50] WARNING: /Users/runner/work/xgboost/xgboost/src/context.cc:196: XGBoost is not compiled with CUDA support.\n",
      "  warnings.warn(smsg, UserWarning)\n"
     ]
    },
    {
     "name": "stdout",
     "output_type": "stream",
     "text": [
      "Iteración 44 de 50\n"
     ]
    },
    {
     "name": "stderr",
     "output_type": "stream",
     "text": [
      "/opt/anaconda3/envs/TD6/lib/python3.12/site-packages/xgboost/core.py:158: UserWarning: [22:01:06] WARNING: /Users/runner/work/xgboost/xgboost/src/context.cc:196: XGBoost is not compiled with CUDA support.\n",
      "  warnings.warn(smsg, UserWarning)\n"
     ]
    },
    {
     "name": "stdout",
     "output_type": "stream",
     "text": [
      "Iteración 45 de 50\n"
     ]
    },
    {
     "name": "stderr",
     "output_type": "stream",
     "text": [
      "/opt/anaconda3/envs/TD6/lib/python3.12/site-packages/xgboost/core.py:158: UserWarning: [22:03:09] WARNING: /Users/runner/work/xgboost/xgboost/src/context.cc:196: XGBoost is not compiled with CUDA support.\n",
      "  warnings.warn(smsg, UserWarning)\n"
     ]
    },
    {
     "name": "stdout",
     "output_type": "stream",
     "text": [
      "Iteración 46 de 50\n"
     ]
    },
    {
     "name": "stderr",
     "output_type": "stream",
     "text": [
      "/opt/anaconda3/envs/TD6/lib/python3.12/site-packages/xgboost/core.py:158: UserWarning: [22:06:13] WARNING: /Users/runner/work/xgboost/xgboost/src/context.cc:196: XGBoost is not compiled with CUDA support.\n",
      "  warnings.warn(smsg, UserWarning)\n"
     ]
    },
    {
     "name": "stdout",
     "output_type": "stream",
     "text": [
      "Iteración 47 de 50\n"
     ]
    },
    {
     "name": "stderr",
     "output_type": "stream",
     "text": [
      "/opt/anaconda3/envs/TD6/lib/python3.12/site-packages/xgboost/core.py:158: UserWarning: [22:06:34] WARNING: /Users/runner/work/xgboost/xgboost/src/context.cc:196: XGBoost is not compiled with CUDA support.\n",
      "  warnings.warn(smsg, UserWarning)\n"
     ]
    },
    {
     "name": "stdout",
     "output_type": "stream",
     "text": [
      "Iteración 48 de 50\n"
     ]
    },
    {
     "name": "stderr",
     "output_type": "stream",
     "text": [
      "/opt/anaconda3/envs/TD6/lib/python3.12/site-packages/xgboost/core.py:158: UserWarning: [22:09:05] WARNING: /Users/runner/work/xgboost/xgboost/src/context.cc:196: XGBoost is not compiled with CUDA support.\n",
      "  warnings.warn(smsg, UserWarning)\n"
     ]
    },
    {
     "name": "stdout",
     "output_type": "stream",
     "text": [
      "Iteración 49 de 50\n"
     ]
    },
    {
     "name": "stderr",
     "output_type": "stream",
     "text": [
      "/opt/anaconda3/envs/TD6/lib/python3.12/site-packages/xgboost/core.py:158: UserWarning: [22:12:06] WARNING: /Users/runner/work/xgboost/xgboost/src/context.cc:196: XGBoost is not compiled with CUDA support.\n",
      "  warnings.warn(smsg, UserWarning)\n"
     ]
    },
    {
     "name": "stdout",
     "output_type": "stream",
     "text": [
      "Iteración 50 de 50\n"
     ]
    },
    {
     "name": "stderr",
     "output_type": "stream",
     "text": [
      "/opt/anaconda3/envs/TD6/lib/python3.12/site-packages/xgboost/core.py:158: UserWarning: [22:15:05] WARNING: /Users/runner/work/xgboost/xgboost/src/context.cc:196: XGBoost is not compiled with CUDA support.\n",
      "  warnings.warn(smsg, UserWarning)\n"
     ]
    },
    {
     "name": "stdout",
     "output_type": "stream",
     "text": [
      "ROC-AUC: 0.80524\n",
      "Grilla: {'colsample_bytree': 0.7732274867094971, 'gamma': 1.8050427802244318, 'learning_rate': 0.09219208117648266, 'max_depth': 7, 'min_child_weight': 0.006491690852697407, 'n_estimators': 965, 'reg_lambda': 0.812118717763774, 'subsample': 0.8546852920995762}\n",
      "Tiempo transcurrido: 6919.468029975891 segundos\n",
      "Tiempo de entrenamiento por iteración: 138.39 segundos\n"
     ]
    }
   ],
   "source": [
    "params = {'max_depth': list(range(1, 40)),\n",
    "          'learning_rate': uniform(scale = 0.2),\n",
    "          'gamma': uniform(scale = 2),\n",
    "          'reg_lambda': uniform(scale = 5),        # Parámetro de regularización.\n",
    "          'subsample': uniform(0.5, 0.5),          # Entre 0.5 y 1.\n",
    "          'min_child_weight': uniform(scale = 5),\n",
    "          'colsample_bytree': uniform(0.75, 0.25), # Entre 0.75 y 1.\n",
    "          'n_estimators': list(range(1, 1000))\n",
    "         }\n",
    "\n",
    "start = time.time()\n",
    "best_score = 0\n",
    "best_estimator = None\n",
    "iterations = 50\n",
    "current_iteration = 1  # Inicia el contador de iteraciones\n",
    "\n",
    "for g in ParameterSampler(params, n_iter=iterations, random_state=32):\n",
    "    print(f'Iteración {current_iteration} de {iterations}')  # Imprime la iteración actual\n",
    "\n",
    "    clf_xgb = xgb.XGBClassifier(objective='binary:logistic', seed=32, eval_metric='auc', tree_method='hist', device='cuda', **g)\n",
    "    clf_xgb.fit(pd_ohe, Y_train, eval_set=[(X_val, Y_val)], verbose=False)\n",
    "\n",
    "    y_pred = clf_xgb.predict_proba(X_val)[:, 1]  # Obtenemos la probabilidad de una de las clases (cualquiera).\n",
    "    auc_roc = sklearn.metrics.roc_auc_score(Y_val, y_pred)\n",
    "\n",
    "    # Guardamos si es mejor.\n",
    "    if auc_roc > best_score:\n",
    "        print(f'Mejor valor de ROC-AUC encontrado: {auc_roc}')\n",
    "        best_score = auc_roc\n",
    "        best_grid = g\n",
    "        best_estimator = clf_xgb\n",
    "\n",
    "    current_iteration += 1  # Aumenta el contador de iteraciones\n",
    "\n",
    "end = time.time()\n",
    "print('ROC-AUC: %0.5f' % best_score)\n",
    "print('Grilla:', best_grid)\n",
    "print(f'Tiempo transcurrido: {str(end - start)} segundos')\n",
    "print(f'Tiempo de entrenamiento por iteración: {str(round((end - start) / iterations, 2))} segundos')"
   ]
  },
  {
   "cell_type": "code",
   "execution_count": 33,
   "metadata": {},
   "outputs": [
    {
     "name": "stderr",
     "output_type": "stream",
     "text": [
      "/opt/anaconda3/envs/TD6/lib/python3.12/site-packages/xgboost/core.py:158: UserWarning: [00:20:07] WARNING: /Users/runner/work/xgboost/xgboost/src/learner.cc:740: \n",
      "Parameters: { \"use_label_encoder\" } are not used.\n",
      "\n",
      "  warnings.warn(smsg, UserWarning)\n"
     ]
    },
    {
     "name": "stdout",
     "output_type": "stream",
     "text": [
      "[0]\tvalidation_0-auc:0.75607\n",
      "[1]\tvalidation_0-auc:0.77340\n",
      "[2]\tvalidation_0-auc:0.77992\n",
      "[3]\tvalidation_0-auc:0.77205\n",
      "[4]\tvalidation_0-auc:0.77262\n",
      "[5]\tvalidation_0-auc:0.77484\n",
      "[6]\tvalidation_0-auc:0.77149\n",
      "[7]\tvalidation_0-auc:0.77489\n",
      "[8]\tvalidation_0-auc:0.77640\n",
      "[9]\tvalidation_0-auc:0.77624\n",
      "[10]\tvalidation_0-auc:0.77766\n",
      "[11]\tvalidation_0-auc:0.77842\n",
      "[12]\tvalidation_0-auc:0.77906\n",
      "[13]\tvalidation_0-auc:0.78164\n",
      "[14]\tvalidation_0-auc:0.78334\n",
      "[15]\tvalidation_0-auc:0.78446\n",
      "[16]\tvalidation_0-auc:0.78483\n",
      "[17]\tvalidation_0-auc:0.78592\n",
      "[18]\tvalidation_0-auc:0.78208\n",
      "[19]\tvalidation_0-auc:0.78238\n",
      "[20]\tvalidation_0-auc:0.78220\n",
      "[21]\tvalidation_0-auc:0.78107\n",
      "[22]\tvalidation_0-auc:0.78131\n",
      "[23]\tvalidation_0-auc:0.78065\n",
      "[24]\tvalidation_0-auc:0.78102\n",
      "[25]\tvalidation_0-auc:0.78051\n",
      "[26]\tvalidation_0-auc:0.78498\n",
      "[27]\tvalidation_0-auc:0.78499\n",
      "[28]\tvalidation_0-auc:0.79140\n",
      "[29]\tvalidation_0-auc:0.79147\n",
      "[30]\tvalidation_0-auc:0.79772\n",
      "[31]\tvalidation_0-auc:0.79791\n",
      "[32]\tvalidation_0-auc:0.79791\n",
      "[33]\tvalidation_0-auc:0.79900\n",
      "[34]\tvalidation_0-auc:0.80041\n",
      "[35]\tvalidation_0-auc:0.79921\n",
      "[36]\tvalidation_0-auc:0.79685\n",
      "[37]\tvalidation_0-auc:0.80055\n",
      "[38]\tvalidation_0-auc:0.79768\n",
      "[39]\tvalidation_0-auc:0.80255\n",
      "[40]\tvalidation_0-auc:0.79934\n",
      "[41]\tvalidation_0-auc:0.80210\n",
      "[42]\tvalidation_0-auc:0.80226\n",
      "[43]\tvalidation_0-auc:0.80262\n",
      "[44]\tvalidation_0-auc:0.80258\n",
      "[45]\tvalidation_0-auc:0.80274\n",
      "[46]\tvalidation_0-auc:0.80313\n",
      "[47]\tvalidation_0-auc:0.80332\n",
      "[48]\tvalidation_0-auc:0.80361\n",
      "[49]\tvalidation_0-auc:0.80429\n",
      "[50]\tvalidation_0-auc:0.80324\n",
      "[51]\tvalidation_0-auc:0.80327\n",
      "[52]\tvalidation_0-auc:0.80334\n",
      "[53]\tvalidation_0-auc:0.80353\n",
      "[54]\tvalidation_0-auc:0.80359\n",
      "[55]\tvalidation_0-auc:0.80355\n",
      "[56]\tvalidation_0-auc:0.80410\n",
      "[57]\tvalidation_0-auc:0.80388\n",
      "[58]\tvalidation_0-auc:0.80416\n",
      "[59]\tvalidation_0-auc:0.80416\n",
      "[60]\tvalidation_0-auc:0.80428\n",
      "[61]\tvalidation_0-auc:0.80418\n",
      "[62]\tvalidation_0-auc:0.80423\n",
      "[63]\tvalidation_0-auc:0.80423\n",
      "[64]\tvalidation_0-auc:0.80442\n",
      "[65]\tvalidation_0-auc:0.80442\n",
      "[66]\tvalidation_0-auc:0.80439\n",
      "[67]\tvalidation_0-auc:0.80439\n",
      "[68]\tvalidation_0-auc:0.80445\n",
      "[69]\tvalidation_0-auc:0.80482\n",
      "[70]\tvalidation_0-auc:0.80481\n",
      "[71]\tvalidation_0-auc:0.80491\n",
      "[72]\tvalidation_0-auc:0.80491\n",
      "[73]\tvalidation_0-auc:0.80491\n",
      "[74]\tvalidation_0-auc:0.80490\n",
      "[75]\tvalidation_0-auc:0.80490\n",
      "[76]\tvalidation_0-auc:0.80490\n",
      "[77]\tvalidation_0-auc:0.80485\n",
      "[78]\tvalidation_0-auc:0.80487\n",
      "[79]\tvalidation_0-auc:0.80489\n",
      "[80]\tvalidation_0-auc:0.80490\n",
      "[81]\tvalidation_0-auc:0.80490\n",
      "[82]\tvalidation_0-auc:0.80477\n",
      "[83]\tvalidation_0-auc:0.80477\n",
      "[84]\tvalidation_0-auc:0.80477\n",
      "[85]\tvalidation_0-auc:0.80464\n",
      "[86]\tvalidation_0-auc:0.80464\n",
      "[87]\tvalidation_0-auc:0.80464\n",
      "[88]\tvalidation_0-auc:0.80464\n",
      "[89]\tvalidation_0-auc:0.80465\n",
      "[90]\tvalidation_0-auc:0.80467\n",
      "[91]\tvalidation_0-auc:0.80472\n",
      "[92]\tvalidation_0-auc:0.80472\n",
      "[93]\tvalidation_0-auc:0.80472\n",
      "[94]\tvalidation_0-auc:0.80459\n",
      "[95]\tvalidation_0-auc:0.80460\n",
      "[96]\tvalidation_0-auc:0.80460\n",
      "[97]\tvalidation_0-auc:0.80461\n",
      "[98]\tvalidation_0-auc:0.80462\n",
      "[99]\tvalidation_0-auc:0.80462\n",
      "[100]\tvalidation_0-auc:0.80462\n",
      "[101]\tvalidation_0-auc:0.80464\n",
      "[102]\tvalidation_0-auc:0.80462\n",
      "[103]\tvalidation_0-auc:0.80462\n",
      "[104]\tvalidation_0-auc:0.80486\n",
      "[105]\tvalidation_0-auc:0.80464\n",
      "[106]\tvalidation_0-auc:0.80464\n",
      "[107]\tvalidation_0-auc:0.80465\n",
      "[108]\tvalidation_0-auc:0.80468\n",
      "[109]\tvalidation_0-auc:0.80473\n",
      "[110]\tvalidation_0-auc:0.80473\n",
      "[111]\tvalidation_0-auc:0.80484\n",
      "[112]\tvalidation_0-auc:0.80483\n",
      "[113]\tvalidation_0-auc:0.80483\n",
      "[114]\tvalidation_0-auc:0.80478\n",
      "[115]\tvalidation_0-auc:0.80477\n",
      "[116]\tvalidation_0-auc:0.80477\n",
      "[117]\tvalidation_0-auc:0.80478\n",
      "[118]\tvalidation_0-auc:0.80487\n",
      "[119]\tvalidation_0-auc:0.80488\n",
      "[120]\tvalidation_0-auc:0.80488\n",
      "[121]\tvalidation_0-auc:0.80488\n",
      "[122]\tvalidation_0-auc:0.80488\n",
      "[123]\tvalidation_0-auc:0.80488\n",
      "[124]\tvalidation_0-auc:0.80488\n",
      "[125]\tvalidation_0-auc:0.80496\n",
      "[126]\tvalidation_0-auc:0.80495\n",
      "[127]\tvalidation_0-auc:0.80497\n",
      "[128]\tvalidation_0-auc:0.80497\n",
      "[129]\tvalidation_0-auc:0.80509\n",
      "[130]\tvalidation_0-auc:0.80509\n",
      "[131]\tvalidation_0-auc:0.80509\n",
      "[132]\tvalidation_0-auc:0.80511\n",
      "[133]\tvalidation_0-auc:0.80513\n",
      "[134]\tvalidation_0-auc:0.80515\n",
      "[135]\tvalidation_0-auc:0.80515\n",
      "[136]\tvalidation_0-auc:0.80513\n",
      "[137]\tvalidation_0-auc:0.80513\n",
      "[138]\tvalidation_0-auc:0.80536\n",
      "[139]\tvalidation_0-auc:0.80535\n",
      "[140]\tvalidation_0-auc:0.80539\n",
      "[141]\tvalidation_0-auc:0.80540\n",
      "[142]\tvalidation_0-auc:0.80545\n",
      "[143]\tvalidation_0-auc:0.80552\n",
      "[144]\tvalidation_0-auc:0.80545\n",
      "[145]\tvalidation_0-auc:0.80545\n",
      "[146]\tvalidation_0-auc:0.80545\n",
      "[147]\tvalidation_0-auc:0.80545\n",
      "[148]\tvalidation_0-auc:0.80543\n",
      "[149]\tvalidation_0-auc:0.80543\n",
      "[150]\tvalidation_0-auc:0.80567\n",
      "[151]\tvalidation_0-auc:0.80567\n",
      "[152]\tvalidation_0-auc:0.80525\n",
      "[153]\tvalidation_0-auc:0.80556\n",
      "[154]\tvalidation_0-auc:0.80556\n",
      "[155]\tvalidation_0-auc:0.80555\n",
      "[156]\tvalidation_0-auc:0.80555\n",
      "[157]\tvalidation_0-auc:0.80561\n",
      "[158]\tvalidation_0-auc:0.80561\n",
      "[159]\tvalidation_0-auc:0.80561\n",
      "[160]\tvalidation_0-auc:0.80562\n",
      "[161]\tvalidation_0-auc:0.80563\n",
      "[162]\tvalidation_0-auc:0.80563\n",
      "[163]\tvalidation_0-auc:0.80564\n",
      "[164]\tvalidation_0-auc:0.80564\n",
      "[165]\tvalidation_0-auc:0.80564\n",
      "[166]\tvalidation_0-auc:0.80564\n",
      "[167]\tvalidation_0-auc:0.80564\n",
      "[168]\tvalidation_0-auc:0.80560\n",
      "[169]\tvalidation_0-auc:0.80560\n",
      "[170]\tvalidation_0-auc:0.80560\n",
      "[171]\tvalidation_0-auc:0.80560\n",
      "[172]\tvalidation_0-auc:0.80563\n",
      "[173]\tvalidation_0-auc:0.80563\n",
      "[174]\tvalidation_0-auc:0.80563\n",
      "[175]\tvalidation_0-auc:0.80566\n",
      "[176]\tvalidation_0-auc:0.80567\n",
      "[177]\tvalidation_0-auc:0.80567\n",
      "[178]\tvalidation_0-auc:0.80567\n",
      "[179]\tvalidation_0-auc:0.80567\n",
      "[180]\tvalidation_0-auc:0.80567\n",
      "[181]\tvalidation_0-auc:0.80567\n",
      "[182]\tvalidation_0-auc:0.80564\n",
      "[183]\tvalidation_0-auc:0.80564\n",
      "[184]\tvalidation_0-auc:0.80564\n",
      "[185]\tvalidation_0-auc:0.80564\n",
      "[186]\tvalidation_0-auc:0.80564\n",
      "[187]\tvalidation_0-auc:0.80564\n",
      "[188]\tvalidation_0-auc:0.80564\n",
      "[189]\tvalidation_0-auc:0.80564\n",
      "[190]\tvalidation_0-auc:0.80564\n",
      "[191]\tvalidation_0-auc:0.80564\n",
      "[192]\tvalidation_0-auc:0.80564\n",
      "[193]\tvalidation_0-auc:0.80564\n",
      "[194]\tvalidation_0-auc:0.80564\n",
      "[195]\tvalidation_0-auc:0.80564\n",
      "[196]\tvalidation_0-auc:0.80565\n",
      "[197]\tvalidation_0-auc:0.80565\n",
      "[198]\tvalidation_0-auc:0.80565\n",
      "[199]\tvalidation_0-auc:0.80565\n",
      "Calculando AUC ROC para iteracion: 1\n",
      "Calculando AUC ROC para iteracion: 2\n",
      "Calculando AUC ROC para iteracion: 3\n",
      "Calculando AUC ROC para iteracion: 4\n",
      "Calculando AUC ROC para iteracion: 5\n",
      "Calculando AUC ROC para iteracion: 6\n",
      "Calculando AUC ROC para iteracion: 7\n",
      "Calculando AUC ROC para iteracion: 8\n",
      "Calculando AUC ROC para iteracion: 9\n",
      "Calculando AUC ROC para iteracion: 10\n",
      "Calculando AUC ROC para iteracion: 11\n",
      "Calculando AUC ROC para iteracion: 12\n",
      "Calculando AUC ROC para iteracion: 13\n",
      "Calculando AUC ROC para iteracion: 14\n",
      "Calculando AUC ROC para iteracion: 15\n",
      "Calculando AUC ROC para iteracion: 16\n",
      "Calculando AUC ROC para iteracion: 17\n",
      "Calculando AUC ROC para iteracion: 18\n",
      "Calculando AUC ROC para iteracion: 19\n",
      "Calculando AUC ROC para iteracion: 20\n",
      "Calculando AUC ROC para iteracion: 21\n",
      "Calculando AUC ROC para iteracion: 22\n",
      "Calculando AUC ROC para iteracion: 23\n",
      "Calculando AUC ROC para iteracion: 24\n",
      "Calculando AUC ROC para iteracion: 25\n",
      "Calculando AUC ROC para iteracion: 26\n",
      "Calculando AUC ROC para iteracion: 27\n",
      "Calculando AUC ROC para iteracion: 28\n",
      "Calculando AUC ROC para iteracion: 29\n",
      "Calculando AUC ROC para iteracion: 30\n",
      "Calculando AUC ROC para iteracion: 31\n",
      "Calculando AUC ROC para iteracion: 32\n",
      "Calculando AUC ROC para iteracion: 33\n",
      "Calculando AUC ROC para iteracion: 34\n",
      "Calculando AUC ROC para iteracion: 35\n",
      "Calculando AUC ROC para iteracion: 36\n",
      "Calculando AUC ROC para iteracion: 37\n",
      "Calculando AUC ROC para iteracion: 38\n",
      "Calculando AUC ROC para iteracion: 39\n",
      "Calculando AUC ROC para iteracion: 40\n",
      "Calculando AUC ROC para iteracion: 41\n",
      "Calculando AUC ROC para iteracion: 42\n",
      "Calculando AUC ROC para iteracion: 43\n",
      "Calculando AUC ROC para iteracion: 44\n",
      "Calculando AUC ROC para iteracion: 45\n",
      "Calculando AUC ROC para iteracion: 46\n",
      "Calculando AUC ROC para iteracion: 47\n",
      "Calculando AUC ROC para iteracion: 48\n",
      "Calculando AUC ROC para iteracion: 49\n",
      "Calculando AUC ROC para iteracion: 50\n",
      "Calculando AUC ROC para iteracion: 51\n",
      "Calculando AUC ROC para iteracion: 52\n",
      "Calculando AUC ROC para iteracion: 53\n",
      "Calculando AUC ROC para iteracion: 54\n",
      "Calculando AUC ROC para iteracion: 55\n",
      "Calculando AUC ROC para iteracion: 56\n",
      "Calculando AUC ROC para iteracion: 57\n",
      "Calculando AUC ROC para iteracion: 58\n",
      "Calculando AUC ROC para iteracion: 59\n",
      "Calculando AUC ROC para iteracion: 60\n",
      "Calculando AUC ROC para iteracion: 61\n",
      "Calculando AUC ROC para iteracion: 62\n",
      "Calculando AUC ROC para iteracion: 63\n",
      "Calculando AUC ROC para iteracion: 64\n",
      "Calculando AUC ROC para iteracion: 65\n",
      "Calculando AUC ROC para iteracion: 66\n",
      "Calculando AUC ROC para iteracion: 67\n",
      "Calculando AUC ROC para iteracion: 68\n",
      "Calculando AUC ROC para iteracion: 69\n",
      "Calculando AUC ROC para iteracion: 70\n",
      "Calculando AUC ROC para iteracion: 71\n",
      "Calculando AUC ROC para iteracion: 72\n",
      "Calculando AUC ROC para iteracion: 73\n",
      "Calculando AUC ROC para iteracion: 74\n",
      "Calculando AUC ROC para iteracion: 75\n",
      "Calculando AUC ROC para iteracion: 76\n",
      "Calculando AUC ROC para iteracion: 77\n",
      "Calculando AUC ROC para iteracion: 78\n",
      "Calculando AUC ROC para iteracion: 79\n",
      "Calculando AUC ROC para iteracion: 80\n",
      "Calculando AUC ROC para iteracion: 81\n",
      "Calculando AUC ROC para iteracion: 82\n",
      "Calculando AUC ROC para iteracion: 83\n",
      "Calculando AUC ROC para iteracion: 84\n",
      "Calculando AUC ROC para iteracion: 85\n",
      "Calculando AUC ROC para iteracion: 86\n",
      "Calculando AUC ROC para iteracion: 87\n",
      "Calculando AUC ROC para iteracion: 88\n",
      "Calculando AUC ROC para iteracion: 89\n",
      "Calculando AUC ROC para iteracion: 90\n",
      "Calculando AUC ROC para iteracion: 91\n",
      "Calculando AUC ROC para iteracion: 92\n",
      "Calculando AUC ROC para iteracion: 93\n",
      "Calculando AUC ROC para iteracion: 94\n",
      "Calculando AUC ROC para iteracion: 95\n",
      "Calculando AUC ROC para iteracion: 96\n",
      "Calculando AUC ROC para iteracion: 97\n",
      "Calculando AUC ROC para iteracion: 98\n",
      "Calculando AUC ROC para iteracion: 99\n",
      "Calculando AUC ROC para iteracion: 100\n",
      "Calculando AUC ROC para iteracion: 101\n",
      "Calculando AUC ROC para iteracion: 102\n",
      "Calculando AUC ROC para iteracion: 103\n",
      "Calculando AUC ROC para iteracion: 104\n",
      "Calculando AUC ROC para iteracion: 105\n",
      "Calculando AUC ROC para iteracion: 106\n",
      "Calculando AUC ROC para iteracion: 107\n",
      "Calculando AUC ROC para iteracion: 108\n",
      "Calculando AUC ROC para iteracion: 109\n",
      "Calculando AUC ROC para iteracion: 110\n",
      "Calculando AUC ROC para iteracion: 111\n",
      "Calculando AUC ROC para iteracion: 112\n",
      "Calculando AUC ROC para iteracion: 113\n",
      "Calculando AUC ROC para iteracion: 114\n",
      "Calculando AUC ROC para iteracion: 115\n",
      "Calculando AUC ROC para iteracion: 116\n",
      "Calculando AUC ROC para iteracion: 117\n",
      "Calculando AUC ROC para iteracion: 118\n",
      "Calculando AUC ROC para iteracion: 119\n",
      "Calculando AUC ROC para iteracion: 120\n",
      "Calculando AUC ROC para iteracion: 121\n",
      "Calculando AUC ROC para iteracion: 122\n",
      "Calculando AUC ROC para iteracion: 123\n",
      "Calculando AUC ROC para iteracion: 124\n",
      "Calculando AUC ROC para iteracion: 125\n",
      "Calculando AUC ROC para iteracion: 126\n",
      "Calculando AUC ROC para iteracion: 127\n",
      "Calculando AUC ROC para iteracion: 128\n",
      "Calculando AUC ROC para iteracion: 129\n",
      "Calculando AUC ROC para iteracion: 130\n",
      "Calculando AUC ROC para iteracion: 131\n",
      "Calculando AUC ROC para iteracion: 132\n",
      "Calculando AUC ROC para iteracion: 133\n",
      "Calculando AUC ROC para iteracion: 134\n",
      "Calculando AUC ROC para iteracion: 135\n",
      "Calculando AUC ROC para iteracion: 136\n",
      "Calculando AUC ROC para iteracion: 137\n",
      "Calculando AUC ROC para iteracion: 138\n",
      "Calculando AUC ROC para iteracion: 139\n",
      "Calculando AUC ROC para iteracion: 140\n",
      "Calculando AUC ROC para iteracion: 141\n",
      "Calculando AUC ROC para iteracion: 142\n",
      "Calculando AUC ROC para iteracion: 143\n",
      "Calculando AUC ROC para iteracion: 144\n",
      "Calculando AUC ROC para iteracion: 145\n",
      "Calculando AUC ROC para iteracion: 146\n",
      "Calculando AUC ROC para iteracion: 147\n",
      "Calculando AUC ROC para iteracion: 148\n",
      "Calculando AUC ROC para iteracion: 149\n",
      "Calculando AUC ROC para iteracion: 150\n",
      "Calculando AUC ROC para iteracion: 151\n",
      "Calculando AUC ROC para iteracion: 152\n",
      "Calculando AUC ROC para iteracion: 153\n",
      "Calculando AUC ROC para iteracion: 154\n",
      "Calculando AUC ROC para iteracion: 155\n",
      "Calculando AUC ROC para iteracion: 156\n",
      "Calculando AUC ROC para iteracion: 157\n",
      "Calculando AUC ROC para iteracion: 158\n",
      "Calculando AUC ROC para iteracion: 159\n",
      "Calculando AUC ROC para iteracion: 160\n",
      "Calculando AUC ROC para iteracion: 161\n",
      "Calculando AUC ROC para iteracion: 162\n",
      "Calculando AUC ROC para iteracion: 163\n",
      "Calculando AUC ROC para iteracion: 164\n",
      "Calculando AUC ROC para iteracion: 165\n",
      "Calculando AUC ROC para iteracion: 166\n",
      "Calculando AUC ROC para iteracion: 167\n",
      "Calculando AUC ROC para iteracion: 168\n",
      "Calculando AUC ROC para iteracion: 169\n",
      "Calculando AUC ROC para iteracion: 170\n",
      "Calculando AUC ROC para iteracion: 171\n",
      "Calculando AUC ROC para iteracion: 172\n",
      "Calculando AUC ROC para iteracion: 173\n",
      "Calculando AUC ROC para iteracion: 174\n",
      "Calculando AUC ROC para iteracion: 175\n",
      "Calculando AUC ROC para iteracion: 176\n",
      "Calculando AUC ROC para iteracion: 177\n",
      "Calculando AUC ROC para iteracion: 178\n",
      "Calculando AUC ROC para iteracion: 179\n",
      "Calculando AUC ROC para iteracion: 180\n",
      "Calculando AUC ROC para iteracion: 181\n",
      "Calculando AUC ROC para iteracion: 182\n",
      "Calculando AUC ROC para iteracion: 183\n",
      "Calculando AUC ROC para iteracion: 184\n",
      "Calculando AUC ROC para iteracion: 185\n",
      "Calculando AUC ROC para iteracion: 186\n",
      "Calculando AUC ROC para iteracion: 187\n",
      "Calculando AUC ROC para iteracion: 188\n",
      "Calculando AUC ROC para iteracion: 189\n",
      "Calculando AUC ROC para iteracion: 190\n",
      "Calculando AUC ROC para iteracion: 191\n",
      "Calculando AUC ROC para iteracion: 192\n",
      "Calculando AUC ROC para iteracion: 193\n",
      "Calculando AUC ROC para iteracion: 194\n",
      "Calculando AUC ROC para iteracion: 195\n",
      "Calculando AUC ROC para iteracion: 196\n",
      "Calculando AUC ROC para iteracion: 197\n",
      "Calculando AUC ROC para iteracion: 198\n",
      "Calculando AUC ROC para iteracion: 199\n",
      "Calculando AUC ROC para iteracion: 200\n"
     ]
    },
    {
     "data": {
      "image/png": "[encoded data removed]",
      "text/plain": [
       "<Figure size 640x480 with 1 Axes>"
      ]
     },
     "metadata": {},
     "output_type": "display_data"
    },
    {
     "name": "stdout",
     "output_type": "stream",
     "text": [
      "La mejor iteración es: 151 con un AUC de: 0.8057\n"
     ]
    }
   ],
   "source": [
    "clf_xgb = xgb.XGBClassifier(objective='binary:logistic',\n",
    "                            seed=42,\n",
    "                            eval_metric='auc',\n",
    "                            use_label_encoder=False,\n",
    "                            colsample_bytree=0.7732274867094971, \n",
    "                            gamma= 1.8050427802244318, \n",
    "                            learning_rate= 0.09219208117648266, \n",
    "                            max_depth= 7, \n",
    "                            min_child_weight= 0.006491690852697407, \n",
    "                            n_estimators= 200, \n",
    "                            reg_lambda= 0.812118717763774, \n",
    "                            subsample= 0.8546852920995762) \n",
    "\n",
    "clf_xgb.fit(pd_ohe, Y_train, verbose=True, eval_set=[(X_val, Y_val)])\n",
    "\n",
    "best_auc = 0\n",
    "best_iteration = 0\n",
    "y_pred_best = None"
   ]
  },
  {
   "cell_type": "code",
   "execution_count": null,
   "metadata": {},
   "outputs": [],
   "source": [
    "importances = clfxgb.feature_importances\n",
    "feature_importance_df = pd.DataFrame({'Feature': X_train_a.columns, 'Importance': importances})\n",
    "feature_importance_df.sort_values(by='Importance', ascending=False, inplace=True)\n",
    "threshold = 0.001  # Por ejemplo, eliminar características con importancia menor al 1%\n",
    "features_to_keep = feature_importance_df[feature_importance_df['Importance'] >= threshold]['Feature']\n",
    "X_train_f = X_train_a[features_to_keep]\n",
    "X_val_f = X_val_a[features_to_keep]\n",
    "X_test_f = X_test_a[features_to_keep]"
   ]
  },
  {
   "cell_type": "code",
   "execution_count": 12,
   "metadata": {},
   "outputs": [
    {
     "name": "stderr",
     "output_type": "stream",
     "text": [
      "/var/folders/m6/yrlm4ckj0r71yq2s7_1v54kh0000gn/T/ipykernel_85166/2455609469.py:1: PerformanceWarning: DataFrame is highly fragmented.  This is usually the result of calling `frame.insert` many times, which has poor performance.  Consider joining all columns at once using pd.concat(axis=1) instead. To get a de-fragmented frame, use `newframe = frame.copy()`\n",
      "  ctr_test['id'] = range(1, len(ctr_test) + 1)\n"
     ]
    }
   ],
   "source": [
    "ctr_test['id'] = range(1, len(ctr_test) + 1)\n",
    "y_pred_test = clf_xgb.predict_proba(ctr_test.drop(columns=[\"id\"]))[:, clf_xgb.classes_ == 1].squeeze()\n",
    "submission_df = pd.DataFrame({\"id\": ctr_test[\"id\"], \"Label\": y_pred_test})\n",
    "submission_df[\"id\"] = submission_df[\"id\"].astype(int)\n",
    "submission_df.to_csv(\"test_xgboost.csv\", sep=\",\", index=False)"
   ]
  }
 ],
 "metadata": {
  "kernelspec": {
   "display_name": "TD6",
   "language": "python",
   "name": "python3"
  },
  "language_info": {
   "codemirror_mode": {
    "name": "ipython",
    "version": 3
   },
   "file_extension": ".py",
   "mimetype": "text/x-python",
   "name": "python",
   "nbconvert_exporter": "python",
   "pygments_lexer": "ipython3",
   "version": "3.12.4"
  }
 },
 "nbformat": 4,
 "nbformat_minor": 2
}
